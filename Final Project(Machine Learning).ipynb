{
 "cells": [
  {
   "cell_type": "markdown",
   "id": "6e25425b-e2fc-4af8-b757-5df03446f71c",
   "metadata": {},
   "source": [
    "# Business Problem Statement\n",
    "- Problem Statement for Machine Learning : How to predict Employee's Promotion so we can have precise target of potential and outstanding employee in order to reduce subjectivity approach and optimize the working environment ?\n",
    "\n",
    "- Problem Statement for Analytics : What Employee's Profile should we maintain in order to find potential candidate?"
   ]
  },
  {
   "cell_type": "markdown",
   "id": "0c5576a0-3d3d-4ba0-9ec9-01ed35653e62",
   "metadata": {},
   "source": [
    "- This Analytical Approach will be used by a Start Up Company (E-Commerce field), People Development Division to analyze and to predict the potential candidate.\n",
    "- Project Limitation : Employee Profile (Under Manager)"
   ]
  },
  {
   "cell_type": "markdown",
   "id": "4c55e559-3705-4ad9-b968-7d8b170dc462",
   "metadata": {},
   "source": [
    "- Feature Explanation :\n",
    "    - department: Department of employee\n",
    "    - region: Region of employment \n",
    "    - education: Education Level\n",
    "    - gender: Gender of Employee\n",
    "    - recruitment_channel: Channel of recruitment for employee\n",
    "    - no_ of_ trainings: no of other trainings completed in previous year on soft skills, technical skills etc.\n",
    "    - age: Age of Employee\n",
    "    - previous_ year_ rating: Employee Rating for the previous year\n",
    "    - length_ of_ service: Length of service in years\n",
    "    - awards_ won?: if awards won during previous year then 1 else 0\n",
    "    - avg_ training_ score: Average score in current training evaluations\n",
    "    - is_promoted: (Target) Recommended for promotion"
   ]
  },
  {
   "cell_type": "markdown",
   "id": "0285cbca-aadd-4540-adb1-d4f02fc84620",
   "metadata": {},
   "source": [
    "# Data Understanding"
   ]
  },
  {
   "cell_type": "code",
   "execution_count": 1,
   "id": "69462252-85c6-4928-8343-d5f50e53da43",
   "metadata": {},
   "outputs": [],
   "source": [
    "import numpy as np\n",
    "import pandas as pd\n",
    "import matplotlib.pyplot as plt\n",
    "import seaborn as sns"
   ]
  },
  {
   "cell_type": "code",
   "execution_count": 2,
   "id": "94c948fe-c127-45fb-bf28-679df15f866a",
   "metadata": {},
   "outputs": [],
   "source": [
    "import warnings\n",
    "warnings.filterwarnings('ignore')"
   ]
  },
  {
   "cell_type": "code",
   "execution_count": 3,
   "id": "7cd33de5-8710-4130-bc28-4f4b5dcc5466",
   "metadata": {},
   "outputs": [],
   "source": [
    "df = pd.read_csv('train.csv')"
   ]
  },
  {
   "cell_type": "code",
   "execution_count": 4,
   "id": "82cf7c2e-8887-4889-ad44-0aa93bf92bf7",
   "metadata": {},
   "outputs": [],
   "source": [
    "df.drop('employee_id',inplace=True,axis=1)"
   ]
  },
  {
   "cell_type": "code",
   "execution_count": 5,
   "id": "42664bdd-fd3a-4c49-8776-07c2486f4571",
   "metadata": {},
   "outputs": [
    {
     "data": {
      "text/html": [
       "<div>\n",
       "<style scoped>\n",
       "    .dataframe tbody tr th:only-of-type {\n",
       "        vertical-align: middle;\n",
       "    }\n",
       "\n",
       "    .dataframe tbody tr th {\n",
       "        vertical-align: top;\n",
       "    }\n",
       "\n",
       "    .dataframe thead th {\n",
       "        text-align: right;\n",
       "    }\n",
       "</style>\n",
       "<table border=\"1\" class=\"dataframe\">\n",
       "  <thead>\n",
       "    <tr style=\"text-align: right;\">\n",
       "      <th></th>\n",
       "      <th>department</th>\n",
       "      <th>region</th>\n",
       "      <th>education</th>\n",
       "      <th>gender</th>\n",
       "      <th>recruitment_channel</th>\n",
       "      <th>no_of_trainings</th>\n",
       "      <th>age</th>\n",
       "      <th>previous_year_rating</th>\n",
       "      <th>length_of_service</th>\n",
       "      <th>awards_won?</th>\n",
       "      <th>avg_training_score</th>\n",
       "      <th>is_promoted</th>\n",
       "    </tr>\n",
       "  </thead>\n",
       "  <tbody>\n",
       "    <tr>\n",
       "      <th>0</th>\n",
       "      <td>Sales &amp; Marketing</td>\n",
       "      <td>region_7</td>\n",
       "      <td>Master's &amp; above</td>\n",
       "      <td>f</td>\n",
       "      <td>sourcing</td>\n",
       "      <td>1</td>\n",
       "      <td>35</td>\n",
       "      <td>5.0</td>\n",
       "      <td>8</td>\n",
       "      <td>0</td>\n",
       "      <td>49</td>\n",
       "      <td>0</td>\n",
       "    </tr>\n",
       "    <tr>\n",
       "      <th>1</th>\n",
       "      <td>Operations</td>\n",
       "      <td>region_22</td>\n",
       "      <td>Bachelor's</td>\n",
       "      <td>m</td>\n",
       "      <td>other</td>\n",
       "      <td>1</td>\n",
       "      <td>30</td>\n",
       "      <td>5.0</td>\n",
       "      <td>4</td>\n",
       "      <td>0</td>\n",
       "      <td>60</td>\n",
       "      <td>0</td>\n",
       "    </tr>\n",
       "    <tr>\n",
       "      <th>2</th>\n",
       "      <td>Sales &amp; Marketing</td>\n",
       "      <td>region_19</td>\n",
       "      <td>Bachelor's</td>\n",
       "      <td>m</td>\n",
       "      <td>sourcing</td>\n",
       "      <td>1</td>\n",
       "      <td>34</td>\n",
       "      <td>3.0</td>\n",
       "      <td>7</td>\n",
       "      <td>0</td>\n",
       "      <td>50</td>\n",
       "      <td>0</td>\n",
       "    </tr>\n",
       "    <tr>\n",
       "      <th>3</th>\n",
       "      <td>Sales &amp; Marketing</td>\n",
       "      <td>region_23</td>\n",
       "      <td>Bachelor's</td>\n",
       "      <td>m</td>\n",
       "      <td>other</td>\n",
       "      <td>2</td>\n",
       "      <td>39</td>\n",
       "      <td>1.0</td>\n",
       "      <td>10</td>\n",
       "      <td>0</td>\n",
       "      <td>50</td>\n",
       "      <td>0</td>\n",
       "    </tr>\n",
       "    <tr>\n",
       "      <th>4</th>\n",
       "      <td>Technology</td>\n",
       "      <td>region_26</td>\n",
       "      <td>Bachelor's</td>\n",
       "      <td>m</td>\n",
       "      <td>other</td>\n",
       "      <td>1</td>\n",
       "      <td>45</td>\n",
       "      <td>3.0</td>\n",
       "      <td>2</td>\n",
       "      <td>0</td>\n",
       "      <td>73</td>\n",
       "      <td>0</td>\n",
       "    </tr>\n",
       "  </tbody>\n",
       "</table>\n",
       "</div>"
      ],
      "text/plain": [
       "          department     region         education gender recruitment_channel  \\\n",
       "0  Sales & Marketing   region_7  Master's & above      f            sourcing   \n",
       "1         Operations  region_22        Bachelor's      m               other   \n",
       "2  Sales & Marketing  region_19        Bachelor's      m            sourcing   \n",
       "3  Sales & Marketing  region_23        Bachelor's      m               other   \n",
       "4         Technology  region_26        Bachelor's      m               other   \n",
       "\n",
       "   no_of_trainings  age  previous_year_rating  length_of_service  awards_won?  \\\n",
       "0                1   35                   5.0                  8            0   \n",
       "1                1   30                   5.0                  4            0   \n",
       "2                1   34                   3.0                  7            0   \n",
       "3                2   39                   1.0                 10            0   \n",
       "4                1   45                   3.0                  2            0   \n",
       "\n",
       "   avg_training_score  is_promoted  \n",
       "0                  49            0  \n",
       "1                  60            0  \n",
       "2                  50            0  \n",
       "3                  50            0  \n",
       "4                  73            0  "
      ]
     },
     "execution_count": 5,
     "metadata": {},
     "output_type": "execute_result"
    }
   ],
   "source": [
    "df.head()"
   ]
  },
  {
   "cell_type": "markdown",
   "id": "9f66308a-e5d6-4222-87a3-38a36a157222",
   "metadata": {},
   "source": [
    "- Check Datatypes"
   ]
  },
  {
   "cell_type": "code",
   "execution_count": 6,
   "id": "e6194d84-6760-4899-85bc-36b8f08b8b8a",
   "metadata": {},
   "outputs": [
    {
     "data": {
      "text/plain": [
       "department               object\n",
       "region                   object\n",
       "education                object\n",
       "gender                   object\n",
       "recruitment_channel      object\n",
       "no_of_trainings           int64\n",
       "age                       int64\n",
       "previous_year_rating    float64\n",
       "length_of_service         int64\n",
       "awards_won?               int64\n",
       "avg_training_score        int64\n",
       "is_promoted               int64\n",
       "dtype: object"
      ]
     },
     "execution_count": 6,
     "metadata": {},
     "output_type": "execute_result"
    }
   ],
   "source": [
    "df.dtypes"
   ]
  },
  {
   "cell_type": "code",
   "execution_count": 7,
   "id": "25c99897-8b07-4701-9c23-ba6d93787df2",
   "metadata": {},
   "outputs": [
    {
     "name": "stdout",
     "output_type": "stream",
     "text": [
      "<class 'pandas.core.frame.DataFrame'>\n",
      "RangeIndex: 54808 entries, 0 to 54807\n",
      "Data columns (total 12 columns):\n",
      " #   Column                Non-Null Count  Dtype  \n",
      "---  ------                --------------  -----  \n",
      " 0   department            54808 non-null  object \n",
      " 1   region                54808 non-null  object \n",
      " 2   education             52399 non-null  object \n",
      " 3   gender                54808 non-null  object \n",
      " 4   recruitment_channel   54808 non-null  object \n",
      " 5   no_of_trainings       54808 non-null  int64  \n",
      " 6   age                   54808 non-null  int64  \n",
      " 7   previous_year_rating  50684 non-null  float64\n",
      " 8   length_of_service     54808 non-null  int64  \n",
      " 9   awards_won?           54808 non-null  int64  \n",
      " 10  avg_training_score    54808 non-null  int64  \n",
      " 11  is_promoted           54808 non-null  int64  \n",
      "dtypes: float64(1), int64(6), object(5)\n",
      "memory usage: 5.0+ MB\n"
     ]
    }
   ],
   "source": [
    "df.info()"
   ]
  },
  {
   "cell_type": "markdown",
   "id": "63230e52-68ab-49a1-b30a-8060a741567c",
   "metadata": {},
   "source": [
    "- Convert Datatypes"
   ]
  },
  {
   "cell_type": "code",
   "execution_count": 8,
   "id": "e0e82f86-6a17-45b2-98a8-5f7d09b8f841",
   "metadata": {},
   "outputs": [],
   "source": [
    "df['awards_won?'] = df['awards_won?'].astype('object')"
   ]
  },
  {
   "cell_type": "code",
   "execution_count": 9,
   "id": "97127c3d-71aa-4055-a786-640cbd855c3f",
   "metadata": {},
   "outputs": [
    {
     "data": {
      "text/plain": [
       "department               object\n",
       "region                   object\n",
       "education                object\n",
       "gender                   object\n",
       "recruitment_channel      object\n",
       "no_of_trainings           int64\n",
       "age                       int64\n",
       "previous_year_rating    float64\n",
       "length_of_service         int64\n",
       "awards_won?              object\n",
       "avg_training_score        int64\n",
       "is_promoted               int64\n",
       "dtype: object"
      ]
     },
     "execution_count": 9,
     "metadata": {},
     "output_type": "execute_result"
    }
   ],
   "source": [
    "df.dtypes"
   ]
  },
  {
   "cell_type": "markdown",
   "id": "ede11177-8c92-46c0-b895-9d3689003f52",
   "metadata": {},
   "source": [
    "- Datasets Info"
   ]
  },
  {
   "cell_type": "code",
   "execution_count": 10,
   "id": "0f1787e9-bdf1-4323-ada0-ff271a0dff8f",
   "metadata": {},
   "outputs": [],
   "source": [
    "dataDesc = []\n",
    "\n",
    "for i in df.columns:\n",
    "    dataDesc.append([\n",
    "        i,\n",
    "        df[i].dtypes,\n",
    "        df[i].isna().sum(),\n",
    "        round((((df[i].isna().sum()) / len(df)) *100),2),\n",
    "        df[i].nunique(),\n",
    "        df[i].drop_duplicates().sample(2).values\n",
    "    ])"
   ]
  },
  {
   "cell_type": "code",
   "execution_count": 11,
   "id": "8401ad22-ca59-4182-984b-c8c30578e485",
   "metadata": {},
   "outputs": [
    {
     "data": {
      "text/html": [
       "<div>\n",
       "<style scoped>\n",
       "    .dataframe tbody tr th:only-of-type {\n",
       "        vertical-align: middle;\n",
       "    }\n",
       "\n",
       "    .dataframe tbody tr th {\n",
       "        vertical-align: top;\n",
       "    }\n",
       "\n",
       "    .dataframe thead th {\n",
       "        text-align: right;\n",
       "    }\n",
       "</style>\n",
       "<table border=\"1\" class=\"dataframe\">\n",
       "  <thead>\n",
       "    <tr style=\"text-align: right;\">\n",
       "      <th></th>\n",
       "      <th>Data Features</th>\n",
       "      <th>Data Type</th>\n",
       "      <th>Null</th>\n",
       "      <th>Null Percentage</th>\n",
       "      <th>Unique</th>\n",
       "      <th>Unique Sample</th>\n",
       "    </tr>\n",
       "  </thead>\n",
       "  <tbody>\n",
       "    <tr>\n",
       "      <th>0</th>\n",
       "      <td>department</td>\n",
       "      <td>object</td>\n",
       "      <td>0</td>\n",
       "      <td>0.00</td>\n",
       "      <td>9</td>\n",
       "      <td>[Technology, Analytics]</td>\n",
       "    </tr>\n",
       "    <tr>\n",
       "      <th>1</th>\n",
       "      <td>region</td>\n",
       "      <td>object</td>\n",
       "      <td>0</td>\n",
       "      <td>0.00</td>\n",
       "      <td>34</td>\n",
       "      <td>[region_22, region_1]</td>\n",
       "    </tr>\n",
       "    <tr>\n",
       "      <th>2</th>\n",
       "      <td>education</td>\n",
       "      <td>object</td>\n",
       "      <td>2409</td>\n",
       "      <td>4.40</td>\n",
       "      <td>3</td>\n",
       "      <td>[Below Secondary, Master's &amp; above]</td>\n",
       "    </tr>\n",
       "    <tr>\n",
       "      <th>3</th>\n",
       "      <td>gender</td>\n",
       "      <td>object</td>\n",
       "      <td>0</td>\n",
       "      <td>0.00</td>\n",
       "      <td>2</td>\n",
       "      <td>[f, m]</td>\n",
       "    </tr>\n",
       "    <tr>\n",
       "      <th>4</th>\n",
       "      <td>recruitment_channel</td>\n",
       "      <td>object</td>\n",
       "      <td>0</td>\n",
       "      <td>0.00</td>\n",
       "      <td>3</td>\n",
       "      <td>[other, referred]</td>\n",
       "    </tr>\n",
       "    <tr>\n",
       "      <th>5</th>\n",
       "      <td>no_of_trainings</td>\n",
       "      <td>int64</td>\n",
       "      <td>0</td>\n",
       "      <td>0.00</td>\n",
       "      <td>10</td>\n",
       "      <td>[2, 8]</td>\n",
       "    </tr>\n",
       "    <tr>\n",
       "      <th>6</th>\n",
       "      <td>age</td>\n",
       "      <td>int64</td>\n",
       "      <td>0</td>\n",
       "      <td>0.00</td>\n",
       "      <td>41</td>\n",
       "      <td>[27, 52]</td>\n",
       "    </tr>\n",
       "    <tr>\n",
       "      <th>7</th>\n",
       "      <td>previous_year_rating</td>\n",
       "      <td>float64</td>\n",
       "      <td>4124</td>\n",
       "      <td>7.52</td>\n",
       "      <td>5</td>\n",
       "      <td>[5.0, 4.0]</td>\n",
       "    </tr>\n",
       "    <tr>\n",
       "      <th>8</th>\n",
       "      <td>length_of_service</td>\n",
       "      <td>int64</td>\n",
       "      <td>0</td>\n",
       "      <td>0.00</td>\n",
       "      <td>35</td>\n",
       "      <td>[13, 2]</td>\n",
       "    </tr>\n",
       "    <tr>\n",
       "      <th>9</th>\n",
       "      <td>awards_won?</td>\n",
       "      <td>object</td>\n",
       "      <td>0</td>\n",
       "      <td>0.00</td>\n",
       "      <td>2</td>\n",
       "      <td>[1, 0]</td>\n",
       "    </tr>\n",
       "    <tr>\n",
       "      <th>10</th>\n",
       "      <td>avg_training_score</td>\n",
       "      <td>int64</td>\n",
       "      <td>0</td>\n",
       "      <td>0.00</td>\n",
       "      <td>61</td>\n",
       "      <td>[84, 79]</td>\n",
       "    </tr>\n",
       "    <tr>\n",
       "      <th>11</th>\n",
       "      <td>is_promoted</td>\n",
       "      <td>int64</td>\n",
       "      <td>0</td>\n",
       "      <td>0.00</td>\n",
       "      <td>2</td>\n",
       "      <td>[1, 0]</td>\n",
       "    </tr>\n",
       "  </tbody>\n",
       "</table>\n",
       "</div>"
      ],
      "text/plain": [
       "           Data Features Data Type  Null  Null Percentage  Unique  \\\n",
       "0             department    object     0             0.00       9   \n",
       "1                 region    object     0             0.00      34   \n",
       "2              education    object  2409             4.40       3   \n",
       "3                 gender    object     0             0.00       2   \n",
       "4    recruitment_channel    object     0             0.00       3   \n",
       "5        no_of_trainings     int64     0             0.00      10   \n",
       "6                    age     int64     0             0.00      41   \n",
       "7   previous_year_rating   float64  4124             7.52       5   \n",
       "8      length_of_service     int64     0             0.00      35   \n",
       "9            awards_won?    object     0             0.00       2   \n",
       "10    avg_training_score     int64     0             0.00      61   \n",
       "11           is_promoted     int64     0             0.00       2   \n",
       "\n",
       "                          Unique Sample  \n",
       "0               [Technology, Analytics]  \n",
       "1                 [region_22, region_1]  \n",
       "2   [Below Secondary, Master's & above]  \n",
       "3                                [f, m]  \n",
       "4                     [other, referred]  \n",
       "5                                [2, 8]  \n",
       "6                              [27, 52]  \n",
       "7                            [5.0, 4.0]  \n",
       "8                               [13, 2]  \n",
       "9                                [1, 0]  \n",
       "10                             [84, 79]  \n",
       "11                               [1, 0]  "
      ]
     },
     "execution_count": 11,
     "metadata": {},
     "output_type": "execute_result"
    }
   ],
   "source": [
    "pd.DataFrame(dataDesc,columns=[\n",
    "    \"Data Features\",\n",
    "    \"Data Type\",\n",
    "    \"Null\",\n",
    "    \"Null Percentage\",\n",
    "    \"Unique\",\n",
    "    \"Unique Sample\"\n",
    "])"
   ]
  },
  {
   "cell_type": "code",
   "execution_count": 12,
   "id": "c372f338-3963-4e8a-bcc8-2dfe7624f27e",
   "metadata": {},
   "outputs": [
    {
     "data": {
      "text/html": [
       "<div>\n",
       "<style scoped>\n",
       "    .dataframe tbody tr th:only-of-type {\n",
       "        vertical-align: middle;\n",
       "    }\n",
       "\n",
       "    .dataframe tbody tr th {\n",
       "        vertical-align: top;\n",
       "    }\n",
       "\n",
       "    .dataframe thead th {\n",
       "        text-align: right;\n",
       "    }\n",
       "</style>\n",
       "<table border=\"1\" class=\"dataframe\">\n",
       "  <thead>\n",
       "    <tr style=\"text-align: right;\">\n",
       "      <th></th>\n",
       "      <th>no_of_trainings</th>\n",
       "      <th>age</th>\n",
       "      <th>previous_year_rating</th>\n",
       "      <th>length_of_service</th>\n",
       "      <th>avg_training_score</th>\n",
       "      <th>is_promoted</th>\n",
       "    </tr>\n",
       "  </thead>\n",
       "  <tbody>\n",
       "    <tr>\n",
       "      <th>count</th>\n",
       "      <td>54808.000000</td>\n",
       "      <td>54808.000000</td>\n",
       "      <td>50684.000000</td>\n",
       "      <td>54808.000000</td>\n",
       "      <td>54808.000000</td>\n",
       "      <td>54808.000000</td>\n",
       "    </tr>\n",
       "    <tr>\n",
       "      <th>mean</th>\n",
       "      <td>1.253011</td>\n",
       "      <td>34.803915</td>\n",
       "      <td>3.329256</td>\n",
       "      <td>5.865512</td>\n",
       "      <td>63.386750</td>\n",
       "      <td>0.085170</td>\n",
       "    </tr>\n",
       "    <tr>\n",
       "      <th>std</th>\n",
       "      <td>0.609264</td>\n",
       "      <td>7.660169</td>\n",
       "      <td>1.259993</td>\n",
       "      <td>4.265094</td>\n",
       "      <td>13.371559</td>\n",
       "      <td>0.279137</td>\n",
       "    </tr>\n",
       "    <tr>\n",
       "      <th>min</th>\n",
       "      <td>1.000000</td>\n",
       "      <td>20.000000</td>\n",
       "      <td>1.000000</td>\n",
       "      <td>1.000000</td>\n",
       "      <td>39.000000</td>\n",
       "      <td>0.000000</td>\n",
       "    </tr>\n",
       "    <tr>\n",
       "      <th>25%</th>\n",
       "      <td>1.000000</td>\n",
       "      <td>29.000000</td>\n",
       "      <td>3.000000</td>\n",
       "      <td>3.000000</td>\n",
       "      <td>51.000000</td>\n",
       "      <td>0.000000</td>\n",
       "    </tr>\n",
       "    <tr>\n",
       "      <th>50%</th>\n",
       "      <td>1.000000</td>\n",
       "      <td>33.000000</td>\n",
       "      <td>3.000000</td>\n",
       "      <td>5.000000</td>\n",
       "      <td>60.000000</td>\n",
       "      <td>0.000000</td>\n",
       "    </tr>\n",
       "    <tr>\n",
       "      <th>75%</th>\n",
       "      <td>1.000000</td>\n",
       "      <td>39.000000</td>\n",
       "      <td>4.000000</td>\n",
       "      <td>7.000000</td>\n",
       "      <td>76.000000</td>\n",
       "      <td>0.000000</td>\n",
       "    </tr>\n",
       "    <tr>\n",
       "      <th>max</th>\n",
       "      <td>10.000000</td>\n",
       "      <td>60.000000</td>\n",
       "      <td>5.000000</td>\n",
       "      <td>37.000000</td>\n",
       "      <td>99.000000</td>\n",
       "      <td>1.000000</td>\n",
       "    </tr>\n",
       "  </tbody>\n",
       "</table>\n",
       "</div>"
      ],
      "text/plain": [
       "       no_of_trainings           age  previous_year_rating  length_of_service  \\\n",
       "count     54808.000000  54808.000000          50684.000000       54808.000000   \n",
       "mean          1.253011     34.803915              3.329256           5.865512   \n",
       "std           0.609264      7.660169              1.259993           4.265094   \n",
       "min           1.000000     20.000000              1.000000           1.000000   \n",
       "25%           1.000000     29.000000              3.000000           3.000000   \n",
       "50%           1.000000     33.000000              3.000000           5.000000   \n",
       "75%           1.000000     39.000000              4.000000           7.000000   \n",
       "max          10.000000     60.000000              5.000000          37.000000   \n",
       "\n",
       "       avg_training_score   is_promoted  \n",
       "count        54808.000000  54808.000000  \n",
       "mean            63.386750      0.085170  \n",
       "std             13.371559      0.279137  \n",
       "min             39.000000      0.000000  \n",
       "25%             51.000000      0.000000  \n",
       "50%             60.000000      0.000000  \n",
       "75%             76.000000      0.000000  \n",
       "max             99.000000      1.000000  "
      ]
     },
     "execution_count": 12,
     "metadata": {},
     "output_type": "execute_result"
    }
   ],
   "source": [
    "df.describe()"
   ]
  },
  {
   "cell_type": "code",
   "execution_count": 13,
   "id": "4ccb15bf-6ca6-400f-8e01-447bf5436ba5",
   "metadata": {},
   "outputs": [
    {
     "data": {
      "text/html": [
       "<div>\n",
       "<style scoped>\n",
       "    .dataframe tbody tr th:only-of-type {\n",
       "        vertical-align: middle;\n",
       "    }\n",
       "\n",
       "    .dataframe tbody tr th {\n",
       "        vertical-align: top;\n",
       "    }\n",
       "\n",
       "    .dataframe thead th {\n",
       "        text-align: right;\n",
       "    }\n",
       "</style>\n",
       "<table border=\"1\" class=\"dataframe\">\n",
       "  <thead>\n",
       "    <tr style=\"text-align: right;\">\n",
       "      <th></th>\n",
       "      <th>department</th>\n",
       "      <th>region</th>\n",
       "      <th>education</th>\n",
       "      <th>gender</th>\n",
       "      <th>recruitment_channel</th>\n",
       "      <th>awards_won?</th>\n",
       "    </tr>\n",
       "  </thead>\n",
       "  <tbody>\n",
       "    <tr>\n",
       "      <th>count</th>\n",
       "      <td>54808</td>\n",
       "      <td>54808</td>\n",
       "      <td>52399</td>\n",
       "      <td>54808</td>\n",
       "      <td>54808</td>\n",
       "      <td>54808</td>\n",
       "    </tr>\n",
       "    <tr>\n",
       "      <th>unique</th>\n",
       "      <td>9</td>\n",
       "      <td>34</td>\n",
       "      <td>3</td>\n",
       "      <td>2</td>\n",
       "      <td>3</td>\n",
       "      <td>2</td>\n",
       "    </tr>\n",
       "    <tr>\n",
       "      <th>top</th>\n",
       "      <td>Sales &amp; Marketing</td>\n",
       "      <td>region_2</td>\n",
       "      <td>Bachelor's</td>\n",
       "      <td>m</td>\n",
       "      <td>other</td>\n",
       "      <td>0</td>\n",
       "    </tr>\n",
       "    <tr>\n",
       "      <th>freq</th>\n",
       "      <td>16840</td>\n",
       "      <td>12343</td>\n",
       "      <td>36669</td>\n",
       "      <td>38496</td>\n",
       "      <td>30446</td>\n",
       "      <td>53538</td>\n",
       "    </tr>\n",
       "  </tbody>\n",
       "</table>\n",
       "</div>"
      ],
      "text/plain": [
       "               department    region   education gender recruitment_channel  \\\n",
       "count               54808     54808       52399  54808               54808   \n",
       "unique                  9        34           3      2                   3   \n",
       "top     Sales & Marketing  region_2  Bachelor's      m               other   \n",
       "freq                16840     12343       36669  38496               30446   \n",
       "\n",
       "        awards_won?  \n",
       "count         54808  \n",
       "unique            2  \n",
       "top               0  \n",
       "freq          53538  "
      ]
     },
     "execution_count": 13,
     "metadata": {},
     "output_type": "execute_result"
    }
   ],
   "source": [
    "df.describe(include='O')"
   ]
  },
  {
   "cell_type": "markdown",
   "id": "1b000319-4b09-4e80-95bf-bc48637f9093",
   "metadata": {},
   "source": [
    "- Check Missing Value"
   ]
  },
  {
   "cell_type": "code",
   "execution_count": 14,
   "id": "fdeeb515-3214-40a0-a97c-7ddb3d4df0a1",
   "metadata": {},
   "outputs": [
    {
     "data": {
      "text/plain": [
       "department                 0\n",
       "region                     0\n",
       "education               2409\n",
       "gender                     0\n",
       "recruitment_channel        0\n",
       "no_of_trainings            0\n",
       "age                        0\n",
       "previous_year_rating    4124\n",
       "length_of_service          0\n",
       "awards_won?                0\n",
       "avg_training_score         0\n",
       "is_promoted                0\n",
       "dtype: int64"
      ]
     },
     "execution_count": 14,
     "metadata": {},
     "output_type": "execute_result"
    }
   ],
   "source": [
    "df.isna().sum()"
   ]
  },
  {
   "cell_type": "code",
   "execution_count": 15,
   "id": "abec7d40-11c6-4f04-bec5-5a4ddd35903d",
   "metadata": {},
   "outputs": [
    {
     "data": {
      "image/png": "[encoded data removed]",
      "text/plain": [
       "<Figure size 936x576 with 1 Axes>"
      ]
     },
     "metadata": {
      "needs_background": "light"
     },
     "output_type": "display_data"
    }
   ],
   "source": [
    "plt.figure(figsize=(13,8))\n",
    "sns.heatmap(df.isna(),cmap='cividis',yticklabels=False,cbar=False)\n",
    "plt.show()"
   ]
  },
  {
   "cell_type": "markdown",
   "id": "9d583169-04ca-4e1f-a75b-e3d39e38ed6e",
   "metadata": {},
   "source": [
    "- Check Imbalance"
   ]
  },
  {
   "cell_type": "code",
   "execution_count": 16,
   "id": "0c070283-c1e8-463d-9c4a-f76c8016f23a",
   "metadata": {},
   "outputs": [
    {
     "data": {
      "text/html": [
       "<div>\n",
       "<style scoped>\n",
       "    .dataframe tbody tr th:only-of-type {\n",
       "        vertical-align: middle;\n",
       "    }\n",
       "\n",
       "    .dataframe tbody tr th {\n",
       "        vertical-align: top;\n",
       "    }\n",
       "\n",
       "    .dataframe thead th {\n",
       "        text-align: right;\n",
       "    }\n",
       "</style>\n",
       "<table border=\"1\" class=\"dataframe\">\n",
       "  <thead>\n",
       "    <tr style=\"text-align: right;\">\n",
       "      <th>col_0</th>\n",
       "      <th>Percentage</th>\n",
       "    </tr>\n",
       "    <tr>\n",
       "      <th>is_promoted</th>\n",
       "      <th></th>\n",
       "    </tr>\n",
       "  </thead>\n",
       "  <tbody>\n",
       "    <tr>\n",
       "      <th>0</th>\n",
       "      <td>91.48</td>\n",
       "    </tr>\n",
       "    <tr>\n",
       "      <th>1</th>\n",
       "      <td>8.52</td>\n",
       "    </tr>\n",
       "  </tbody>\n",
       "</table>\n",
       "</div>"
      ],
      "text/plain": [
       "col_0        Percentage\n",
       "is_promoted            \n",
       "0                 91.48\n",
       "1                  8.52"
      ]
     },
     "execution_count": 16,
     "metadata": {},
     "output_type": "execute_result"
    }
   ],
   "source": [
    "(pd.crosstab(index=df['is_promoted'],columns='Percentage',normalize=True)*100).round(2) # Datasets are Imbalance"
   ]
  },
  {
   "cell_type": "markdown",
   "id": "c43ae8c0-35ec-4dd3-b2e1-1a3b2606f5d9",
   "metadata": {},
   "source": [
    "- Missing Values Detected on Education and Previous Year Rating Feature, instead of Dropping the Rows, we try to fiiling the Missing values with Mode"
   ]
  },
  {
   "cell_type": "code",
   "execution_count": 31,
   "id": "1a2bc067-8e4d-4058-ba73-e36f122452a1",
   "metadata": {},
   "outputs": [],
   "source": [
    "dataDesc1 = []\n",
    "\n",
    "for i in df.columns:\n",
    "    dataDesc1.append([\n",
    "        i,\n",
    "        df[i].dtypes,\n",
    "        df[i].isna().sum(),\n",
    "        round((((df[i].isna().sum()) / len(df)) *100),2),\n",
    "        df[i].nunique(),\n",
    "        df[i].drop_duplicates().sample(2).values\n",
    "    ])"
   ]
  },
  {
   "cell_type": "code",
   "execution_count": 32,
   "id": "2f0a9835-a56c-4b98-80f6-54bb3858da2b",
   "metadata": {},
   "outputs": [
    {
     "data": {
      "text/html": [
       "<div>\n",
       "<style scoped>\n",
       "    .dataframe tbody tr th:only-of-type {\n",
       "        vertical-align: middle;\n",
       "    }\n",
       "\n",
       "    .dataframe tbody tr th {\n",
       "        vertical-align: top;\n",
       "    }\n",
       "\n",
       "    .dataframe thead th {\n",
       "        text-align: right;\n",
       "    }\n",
       "</style>\n",
       "<table border=\"1\" class=\"dataframe\">\n",
       "  <thead>\n",
       "    <tr style=\"text-align: right;\">\n",
       "      <th></th>\n",
       "      <th>Data Features</th>\n",
       "      <th>Data Type</th>\n",
       "      <th>Null</th>\n",
       "      <th>Null Percentage</th>\n",
       "      <th>Unique</th>\n",
       "      <th>Unique Sample</th>\n",
       "    </tr>\n",
       "  </thead>\n",
       "  <tbody>\n",
       "    <tr>\n",
       "      <th>0</th>\n",
       "      <td>department</td>\n",
       "      <td>object</td>\n",
       "      <td>0</td>\n",
       "      <td>0.00</td>\n",
       "      <td>9</td>\n",
       "      <td>[Procurement, Analytics]</td>\n",
       "    </tr>\n",
       "    <tr>\n",
       "      <th>1</th>\n",
       "      <td>region</td>\n",
       "      <td>object</td>\n",
       "      <td>0</td>\n",
       "      <td>0.00</td>\n",
       "      <td>34</td>\n",
       "      <td>[region_22, region_10]</td>\n",
       "    </tr>\n",
       "    <tr>\n",
       "      <th>2</th>\n",
       "      <td>education</td>\n",
       "      <td>object</td>\n",
       "      <td>2409</td>\n",
       "      <td>4.40</td>\n",
       "      <td>3</td>\n",
       "      <td>[Below Secondary, nan]</td>\n",
       "    </tr>\n",
       "    <tr>\n",
       "      <th>3</th>\n",
       "      <td>gender</td>\n",
       "      <td>object</td>\n",
       "      <td>0</td>\n",
       "      <td>0.00</td>\n",
       "      <td>2</td>\n",
       "      <td>[m, f]</td>\n",
       "    </tr>\n",
       "    <tr>\n",
       "      <th>4</th>\n",
       "      <td>recruitment_channel</td>\n",
       "      <td>object</td>\n",
       "      <td>0</td>\n",
       "      <td>0.00</td>\n",
       "      <td>3</td>\n",
       "      <td>[sourcing, other]</td>\n",
       "    </tr>\n",
       "    <tr>\n",
       "      <th>5</th>\n",
       "      <td>no_of_trainings</td>\n",
       "      <td>int64</td>\n",
       "      <td>0</td>\n",
       "      <td>0.00</td>\n",
       "      <td>10</td>\n",
       "      <td>[7, 4]</td>\n",
       "    </tr>\n",
       "    <tr>\n",
       "      <th>6</th>\n",
       "      <td>age</td>\n",
       "      <td>int64</td>\n",
       "      <td>0</td>\n",
       "      <td>0.00</td>\n",
       "      <td>41</td>\n",
       "      <td>[48, 51]</td>\n",
       "    </tr>\n",
       "    <tr>\n",
       "      <th>7</th>\n",
       "      <td>previous_year_rating</td>\n",
       "      <td>float64</td>\n",
       "      <td>4124</td>\n",
       "      <td>7.52</td>\n",
       "      <td>5</td>\n",
       "      <td>[2.0, 1.0]</td>\n",
       "    </tr>\n",
       "    <tr>\n",
       "      <th>8</th>\n",
       "      <td>length_of_service</td>\n",
       "      <td>int64</td>\n",
       "      <td>0</td>\n",
       "      <td>0.00</td>\n",
       "      <td>35</td>\n",
       "      <td>[28, 6]</td>\n",
       "    </tr>\n",
       "    <tr>\n",
       "      <th>9</th>\n",
       "      <td>awards_won?</td>\n",
       "      <td>object</td>\n",
       "      <td>0</td>\n",
       "      <td>0.00</td>\n",
       "      <td>2</td>\n",
       "      <td>[1, 0]</td>\n",
       "    </tr>\n",
       "    <tr>\n",
       "      <th>10</th>\n",
       "      <td>avg_training_score</td>\n",
       "      <td>int64</td>\n",
       "      <td>0</td>\n",
       "      <td>0.00</td>\n",
       "      <td>61</td>\n",
       "      <td>[63, 45]</td>\n",
       "    </tr>\n",
       "    <tr>\n",
       "      <th>11</th>\n",
       "      <td>is_promoted</td>\n",
       "      <td>int64</td>\n",
       "      <td>0</td>\n",
       "      <td>0.00</td>\n",
       "      <td>2</td>\n",
       "      <td>[0, 1]</td>\n",
       "    </tr>\n",
       "  </tbody>\n",
       "</table>\n",
       "</div>"
      ],
      "text/plain": [
       "           Data Features Data Type  Null  Null Percentage  Unique  \\\n",
       "0             department    object     0             0.00       9   \n",
       "1                 region    object     0             0.00      34   \n",
       "2              education    object  2409             4.40       3   \n",
       "3                 gender    object     0             0.00       2   \n",
       "4    recruitment_channel    object     0             0.00       3   \n",
       "5        no_of_trainings     int64     0             0.00      10   \n",
       "6                    age     int64     0             0.00      41   \n",
       "7   previous_year_rating   float64  4124             7.52       5   \n",
       "8      length_of_service     int64     0             0.00      35   \n",
       "9            awards_won?    object     0             0.00       2   \n",
       "10    avg_training_score     int64     0             0.00      61   \n",
       "11           is_promoted     int64     0             0.00       2   \n",
       "\n",
       "               Unique Sample  \n",
       "0   [Procurement, Analytics]  \n",
       "1     [region_22, region_10]  \n",
       "2     [Below Secondary, nan]  \n",
       "3                     [m, f]  \n",
       "4          [sourcing, other]  \n",
       "5                     [7, 4]  \n",
       "6                   [48, 51]  \n",
       "7                 [2.0, 1.0]  \n",
       "8                    [28, 6]  \n",
       "9                     [1, 0]  \n",
       "10                  [63, 45]  \n",
       "11                    [0, 1]  "
      ]
     },
     "execution_count": 32,
     "metadata": {},
     "output_type": "execute_result"
    }
   ],
   "source": [
    "pd.DataFrame(dataDesc1,columns=[\n",
    "    \"Data Features\",\n",
    "    \"Data Type\",\n",
    "    \"Null\",\n",
    "    \"Null Percentage\",\n",
    "    \"Unique\",\n",
    "    \"Unique Sample\"\n",
    "])"
   ]
  },
  {
   "cell_type": "markdown",
   "id": "7d6467ac-61cd-419e-942d-fd8e8edd1283",
   "metadata": {},
   "source": [
    "- Finding the Correlation and Association Between Features"
   ]
  },
  {
   "cell_type": "markdown",
   "id": "8c087998-9175-4f8f-8bac-6c21f7c37a58",
   "metadata": {},
   "source": [
    "- Correlation Ratio (For Numerical Features)\n",
    "- Association (For Categorical Features) Cramer's V and Theil's U"
   ]
  },
  {
   "cell_type": "code",
   "execution_count": 33,
   "id": "be21ba65-9716-4059-84a6-4659a517bd7d",
   "metadata": {},
   "outputs": [],
   "source": [
    "df_numerical = df[['no_of_trainings','age','previous_year_rating','length_of_service','avg_training_score','is_promoted']]"
   ]
  },
  {
   "cell_type": "code",
   "execution_count": 34,
   "id": "1f92c7aa-3010-47ac-a2ad-83a263a65c38",
   "metadata": {},
   "outputs": [],
   "source": [
    "df_categorical = df[['department','region','education','gender','recruitment_channel','awards_won?','is_promoted']]"
   ]
  },
  {
   "cell_type": "code",
   "execution_count": 35,
   "id": "e1bc63a7-0f57-45c6-ae20-284bbfe345c6",
   "metadata": {},
   "outputs": [
    {
     "data": {
      "text/html": [
       "<div>\n",
       "<style scoped>\n",
       "    .dataframe tbody tr th:only-of-type {\n",
       "        vertical-align: middle;\n",
       "    }\n",
       "\n",
       "    .dataframe tbody tr th {\n",
       "        vertical-align: top;\n",
       "    }\n",
       "\n",
       "    .dataframe thead th {\n",
       "        text-align: right;\n",
       "    }\n",
       "</style>\n",
       "<table border=\"1\" class=\"dataframe\">\n",
       "  <thead>\n",
       "    <tr style=\"text-align: right;\">\n",
       "      <th></th>\n",
       "      <th>no_of_trainings</th>\n",
       "      <th>age</th>\n",
       "      <th>previous_year_rating</th>\n",
       "      <th>length_of_service</th>\n",
       "      <th>avg_training_score</th>\n",
       "      <th>is_promoted</th>\n",
       "    </tr>\n",
       "  </thead>\n",
       "  <tbody>\n",
       "    <tr>\n",
       "      <th>0</th>\n",
       "      <td>1</td>\n",
       "      <td>35</td>\n",
       "      <td>5.0</td>\n",
       "      <td>8</td>\n",
       "      <td>49</td>\n",
       "      <td>0</td>\n",
       "    </tr>\n",
       "    <tr>\n",
       "      <th>1</th>\n",
       "      <td>1</td>\n",
       "      <td>30</td>\n",
       "      <td>5.0</td>\n",
       "      <td>4</td>\n",
       "      <td>60</td>\n",
       "      <td>0</td>\n",
       "    </tr>\n",
       "    <tr>\n",
       "      <th>2</th>\n",
       "      <td>1</td>\n",
       "      <td>34</td>\n",
       "      <td>3.0</td>\n",
       "      <td>7</td>\n",
       "      <td>50</td>\n",
       "      <td>0</td>\n",
       "    </tr>\n",
       "    <tr>\n",
       "      <th>3</th>\n",
       "      <td>2</td>\n",
       "      <td>39</td>\n",
       "      <td>1.0</td>\n",
       "      <td>10</td>\n",
       "      <td>50</td>\n",
       "      <td>0</td>\n",
       "    </tr>\n",
       "    <tr>\n",
       "      <th>4</th>\n",
       "      <td>1</td>\n",
       "      <td>45</td>\n",
       "      <td>3.0</td>\n",
       "      <td>2</td>\n",
       "      <td>73</td>\n",
       "      <td>0</td>\n",
       "    </tr>\n",
       "  </tbody>\n",
       "</table>\n",
       "</div>"
      ],
      "text/plain": [
       "   no_of_trainings  age  previous_year_rating  length_of_service  \\\n",
       "0                1   35                   5.0                  8   \n",
       "1                1   30                   5.0                  4   \n",
       "2                1   34                   3.0                  7   \n",
       "3                2   39                   1.0                 10   \n",
       "4                1   45                   3.0                  2   \n",
       "\n",
       "   avg_training_score  is_promoted  \n",
       "0                  49            0  \n",
       "1                  60            0  \n",
       "2                  50            0  \n",
       "3                  50            0  \n",
       "4                  73            0  "
      ]
     },
     "execution_count": 35,
     "metadata": {},
     "output_type": "execute_result"
    }
   ],
   "source": [
    "df_numerical.head()"
   ]
  },
  {
   "cell_type": "code",
   "execution_count": 36,
   "id": "454237c8-7ba8-48e5-a93c-29e209c2664b",
   "metadata": {},
   "outputs": [
    {
     "data": {
      "text/html": [
       "<div>\n",
       "<style scoped>\n",
       "    .dataframe tbody tr th:only-of-type {\n",
       "        vertical-align: middle;\n",
       "    }\n",
       "\n",
       "    .dataframe tbody tr th {\n",
       "        vertical-align: top;\n",
       "    }\n",
       "\n",
       "    .dataframe thead th {\n",
       "        text-align: right;\n",
       "    }\n",
       "</style>\n",
       "<table border=\"1\" class=\"dataframe\">\n",
       "  <thead>\n",
       "    <tr style=\"text-align: right;\">\n",
       "      <th></th>\n",
       "      <th>department</th>\n",
       "      <th>region</th>\n",
       "      <th>education</th>\n",
       "      <th>gender</th>\n",
       "      <th>recruitment_channel</th>\n",
       "      <th>awards_won?</th>\n",
       "      <th>is_promoted</th>\n",
       "    </tr>\n",
       "  </thead>\n",
       "  <tbody>\n",
       "    <tr>\n",
       "      <th>0</th>\n",
       "      <td>Sales &amp; Marketing</td>\n",
       "      <td>region_7</td>\n",
       "      <td>Master's &amp; above</td>\n",
       "      <td>f</td>\n",
       "      <td>sourcing</td>\n",
       "      <td>0</td>\n",
       "      <td>0</td>\n",
       "    </tr>\n",
       "    <tr>\n",
       "      <th>1</th>\n",
       "      <td>Operations</td>\n",
       "      <td>region_22</td>\n",
       "      <td>Bachelor's</td>\n",
       "      <td>m</td>\n",
       "      <td>other</td>\n",
       "      <td>0</td>\n",
       "      <td>0</td>\n",
       "    </tr>\n",
       "    <tr>\n",
       "      <th>2</th>\n",
       "      <td>Sales &amp; Marketing</td>\n",
       "      <td>region_19</td>\n",
       "      <td>Bachelor's</td>\n",
       "      <td>m</td>\n",
       "      <td>sourcing</td>\n",
       "      <td>0</td>\n",
       "      <td>0</td>\n",
       "    </tr>\n",
       "    <tr>\n",
       "      <th>3</th>\n",
       "      <td>Sales &amp; Marketing</td>\n",
       "      <td>region_23</td>\n",
       "      <td>Bachelor's</td>\n",
       "      <td>m</td>\n",
       "      <td>other</td>\n",
       "      <td>0</td>\n",
       "      <td>0</td>\n",
       "    </tr>\n",
       "    <tr>\n",
       "      <th>4</th>\n",
       "      <td>Technology</td>\n",
       "      <td>region_26</td>\n",
       "      <td>Bachelor's</td>\n",
       "      <td>m</td>\n",
       "      <td>other</td>\n",
       "      <td>0</td>\n",
       "      <td>0</td>\n",
       "    </tr>\n",
       "  </tbody>\n",
       "</table>\n",
       "</div>"
      ],
      "text/plain": [
       "          department     region         education gender recruitment_channel  \\\n",
       "0  Sales & Marketing   region_7  Master's & above      f            sourcing   \n",
       "1         Operations  region_22        Bachelor's      m               other   \n",
       "2  Sales & Marketing  region_19        Bachelor's      m            sourcing   \n",
       "3  Sales & Marketing  region_23        Bachelor's      m               other   \n",
       "4         Technology  region_26        Bachelor's      m               other   \n",
       "\n",
       "  awards_won?  is_promoted  \n",
       "0           0            0  \n",
       "1           0            0  \n",
       "2           0            0  \n",
       "3           0            0  \n",
       "4           0            0  "
      ]
     },
     "execution_count": 36,
     "metadata": {},
     "output_type": "execute_result"
    }
   ],
   "source": [
    "df_categorical.head()"
   ]
  },
  {
   "cell_type": "markdown",
   "id": "45a7591a-2b0b-406c-9358-c80509234b9e",
   "metadata": {},
   "source": [
    "# Preprocessing"
   ]
  },
  {
   "cell_type": "code",
   "execution_count": 118,
   "id": "7788fbd4-bb8b-4125-b39c-b5ad8a62cf95",
   "metadata": {},
   "outputs": [
    {
     "name": "stdout",
     "output_type": "stream",
     "text": [
      "<class 'pandas.core.frame.DataFrame'>\n",
      "RangeIndex: 54808 entries, 0 to 54807\n",
      "Data columns (total 16 columns):\n",
      " #   Column                    Non-Null Count  Dtype   \n",
      "---  ------                    --------------  -----   \n",
      " 0   department                54808 non-null  object  \n",
      " 1   region                    54808 non-null  object  \n",
      " 2   education                 52399 non-null  object  \n",
      " 3   gender                    54808 non-null  object  \n",
      " 4   recruitment_channel       54808 non-null  object  \n",
      " 5   no_of_trainings           54808 non-null  int64   \n",
      " 6   age                       54808 non-null  int64   \n",
      " 7   previous_year_rating      50684 non-null  float64 \n",
      " 8   length_of_service         54808 non-null  int64   \n",
      " 9   awards_won?               54808 non-null  object  \n",
      " 10  avg_training_score        54808 non-null  int64   \n",
      " 11  is_promoted               54808 non-null  int64   \n",
      " 12  age_recat                 54808 non-null  category\n",
      " 13  no_of_trainings_recat     54808 non-null  object  \n",
      " 14  length_of_service_recat   54808 non-null  category\n",
      " 15  avg_training_score_recat  54808 non-null  category\n",
      "dtypes: category(3), float64(1), int64(5), object(7)\n",
      "memory usage: 5.6+ MB\n"
     ]
    }
   ],
   "source": [
    "df.info()"
   ]
  },
  {
   "cell_type": "code",
   "execution_count": 119,
   "id": "692d1d5c-00c2-4f55-b573-e5f1695c426a",
   "metadata": {},
   "outputs": [
    {
     "data": {
      "text/plain": [
       "department                     0\n",
       "region                         0\n",
       "education                   2409\n",
       "gender                         0\n",
       "recruitment_channel            0\n",
       "no_of_trainings                0\n",
       "age                            0\n",
       "previous_year_rating        4124\n",
       "length_of_service              0\n",
       "awards_won?                    0\n",
       "avg_training_score             0\n",
       "is_promoted                    0\n",
       "age_recat                      0\n",
       "no_of_trainings_recat          0\n",
       "length_of_service_recat        0\n",
       "avg_training_score_recat       0\n",
       "dtype: int64"
      ]
     },
     "execution_count": 119,
     "metadata": {},
     "output_type": "execute_result"
    }
   ],
   "source": [
    "df.isna().sum()"
   ]
  },
  {
   "cell_type": "code",
   "execution_count": 120,
   "id": "d7b6da1e-e20a-4aef-867b-1ab5847dd0ed",
   "metadata": {},
   "outputs": [
    {
     "data": {
      "text/plain": [
       "0    Bachelor's\n",
       "dtype: object"
      ]
     },
     "execution_count": 120,
     "metadata": {},
     "output_type": "execute_result"
    }
   ],
   "source": [
    "df['education'].mode() #Fiiling Missing Value on Pipeline"
   ]
  },
  {
   "cell_type": "code",
   "execution_count": 121,
   "id": "3443aa8e-ecdf-4232-b814-29c044e8e4dd",
   "metadata": {},
   "outputs": [
    {
     "data": {
      "text/plain": [
       "1    4124\n",
       "Name: length_of_service, dtype: int64"
      ]
     },
     "execution_count": 121,
     "metadata": {},
     "output_type": "execute_result"
    }
   ],
   "source": [
    "df[df['previous_year_rating'].isna()]['length_of_service'].value_counts() #Assume that All of the Missing Value on Previous Year Rating Features are the one who worked under 1 year of service"
   ]
  },
  {
   "cell_type": "code",
   "execution_count": 122,
   "id": "0d9b9d70-41cd-4e1b-aa04-ed6b2fbc0a93",
   "metadata": {},
   "outputs": [],
   "source": [
    "df1 = df.dropna(subset=['previous_year_rating'],axis=0)"
   ]
  },
  {
   "cell_type": "code",
   "execution_count": 123,
   "id": "fb4bfa25-cb63-4b62-b635-3eff84bf2fd7",
   "metadata": {},
   "outputs": [
    {
     "data": {
      "text/html": [
       "<div>\n",
       "<style scoped>\n",
       "    .dataframe tbody tr th:only-of-type {\n",
       "        vertical-align: middle;\n",
       "    }\n",
       "\n",
       "    .dataframe tbody tr th {\n",
       "        vertical-align: top;\n",
       "    }\n",
       "\n",
       "    .dataframe thead th {\n",
       "        text-align: right;\n",
       "    }\n",
       "</style>\n",
       "<table border=\"1\" class=\"dataframe\">\n",
       "  <thead>\n",
       "    <tr style=\"text-align: right;\">\n",
       "      <th></th>\n",
       "      <th>department</th>\n",
       "      <th>region</th>\n",
       "      <th>education</th>\n",
       "      <th>gender</th>\n",
       "      <th>recruitment_channel</th>\n",
       "      <th>no_of_trainings</th>\n",
       "      <th>age</th>\n",
       "      <th>previous_year_rating</th>\n",
       "      <th>length_of_service</th>\n",
       "      <th>awards_won?</th>\n",
       "      <th>avg_training_score</th>\n",
       "      <th>is_promoted</th>\n",
       "      <th>age_recat</th>\n",
       "      <th>no_of_trainings_recat</th>\n",
       "      <th>length_of_service_recat</th>\n",
       "      <th>avg_training_score_recat</th>\n",
       "    </tr>\n",
       "  </thead>\n",
       "  <tbody>\n",
       "    <tr>\n",
       "      <th>0</th>\n",
       "      <td>Sales &amp; Marketing</td>\n",
       "      <td>region_7</td>\n",
       "      <td>Master's &amp; above</td>\n",
       "      <td>f</td>\n",
       "      <td>sourcing</td>\n",
       "      <td>1</td>\n",
       "      <td>35</td>\n",
       "      <td>5.0</td>\n",
       "      <td>8</td>\n",
       "      <td>0</td>\n",
       "      <td>49</td>\n",
       "      <td>0</td>\n",
       "      <td>C</td>\n",
       "      <td>1</td>\n",
       "      <td>2</td>\n",
       "      <td>C</td>\n",
       "    </tr>\n",
       "    <tr>\n",
       "      <th>1</th>\n",
       "      <td>Operations</td>\n",
       "      <td>region_22</td>\n",
       "      <td>Bachelor's</td>\n",
       "      <td>m</td>\n",
       "      <td>other</td>\n",
       "      <td>1</td>\n",
       "      <td>30</td>\n",
       "      <td>5.0</td>\n",
       "      <td>4</td>\n",
       "      <td>0</td>\n",
       "      <td>60</td>\n",
       "      <td>0</td>\n",
       "      <td>B</td>\n",
       "      <td>1</td>\n",
       "      <td>1</td>\n",
       "      <td>C</td>\n",
       "    </tr>\n",
       "    <tr>\n",
       "      <th>2</th>\n",
       "      <td>Sales &amp; Marketing</td>\n",
       "      <td>region_19</td>\n",
       "      <td>Bachelor's</td>\n",
       "      <td>m</td>\n",
       "      <td>sourcing</td>\n",
       "      <td>1</td>\n",
       "      <td>34</td>\n",
       "      <td>3.0</td>\n",
       "      <td>7</td>\n",
       "      <td>0</td>\n",
       "      <td>50</td>\n",
       "      <td>0</td>\n",
       "      <td>C</td>\n",
       "      <td>1</td>\n",
       "      <td>2</td>\n",
       "      <td>C</td>\n",
       "    </tr>\n",
       "    <tr>\n",
       "      <th>3</th>\n",
       "      <td>Sales &amp; Marketing</td>\n",
       "      <td>region_23</td>\n",
       "      <td>Bachelor's</td>\n",
       "      <td>m</td>\n",
       "      <td>other</td>\n",
       "      <td>2</td>\n",
       "      <td>39</td>\n",
       "      <td>1.0</td>\n",
       "      <td>10</td>\n",
       "      <td>0</td>\n",
       "      <td>50</td>\n",
       "      <td>0</td>\n",
       "      <td>D</td>\n",
       "      <td>Others</td>\n",
       "      <td>2</td>\n",
       "      <td>C</td>\n",
       "    </tr>\n",
       "    <tr>\n",
       "      <th>4</th>\n",
       "      <td>Technology</td>\n",
       "      <td>region_26</td>\n",
       "      <td>Bachelor's</td>\n",
       "      <td>m</td>\n",
       "      <td>other</td>\n",
       "      <td>1</td>\n",
       "      <td>45</td>\n",
       "      <td>3.0</td>\n",
       "      <td>2</td>\n",
       "      <td>0</td>\n",
       "      <td>73</td>\n",
       "      <td>0</td>\n",
       "      <td>E</td>\n",
       "      <td>1</td>\n",
       "      <td>1</td>\n",
       "      <td>B</td>\n",
       "    </tr>\n",
       "  </tbody>\n",
       "</table>\n",
       "</div>"
      ],
      "text/plain": [
       "          department     region         education gender recruitment_channel  \\\n",
       "0  Sales & Marketing   region_7  Master's & above      f            sourcing   \n",
       "1         Operations  region_22        Bachelor's      m               other   \n",
       "2  Sales & Marketing  region_19        Bachelor's      m            sourcing   \n",
       "3  Sales & Marketing  region_23        Bachelor's      m               other   \n",
       "4         Technology  region_26        Bachelor's      m               other   \n",
       "\n",
       "   no_of_trainings  age  previous_year_rating  length_of_service awards_won?  \\\n",
       "0                1   35                   5.0                  8           0   \n",
       "1                1   30                   5.0                  4           0   \n",
       "2                1   34                   3.0                  7           0   \n",
       "3                2   39                   1.0                 10           0   \n",
       "4                1   45                   3.0                  2           0   \n",
       "\n",
       "   avg_training_score  is_promoted age_recat no_of_trainings_recat  \\\n",
       "0                  49            0         C                     1   \n",
       "1                  60            0         B                     1   \n",
       "2                  50            0         C                     1   \n",
       "3                  50            0         D                Others   \n",
       "4                  73            0         E                     1   \n",
       "\n",
       "  length_of_service_recat avg_training_score_recat  \n",
       "0                       2                        C  \n",
       "1                       1                        C  \n",
       "2                       2                        C  \n",
       "3                       2                        C  \n",
       "4                       1                        B  "
      ]
     },
     "execution_count": 123,
     "metadata": {},
     "output_type": "execute_result"
    }
   ],
   "source": [
    "df1.head()"
   ]
  },
  {
   "cell_type": "code",
   "execution_count": 124,
   "id": "cc075f74-57d5-408d-a500-5126af215b50",
   "metadata": {},
   "outputs": [
    {
     "data": {
      "text/plain": [
       "department                     0\n",
       "region                         0\n",
       "education                   2024\n",
       "gender                         0\n",
       "recruitment_channel            0\n",
       "no_of_trainings                0\n",
       "age                            0\n",
       "previous_year_rating           0\n",
       "length_of_service              0\n",
       "awards_won?                    0\n",
       "avg_training_score             0\n",
       "is_promoted                    0\n",
       "age_recat                      0\n",
       "no_of_trainings_recat          0\n",
       "length_of_service_recat        0\n",
       "avg_training_score_recat       0\n",
       "dtype: int64"
      ]
     },
     "execution_count": 124,
     "metadata": {},
     "output_type": "execute_result"
    }
   ],
   "source": [
    "df1.isna().sum()"
   ]
  },
  {
   "cell_type": "code",
   "execution_count": 125,
   "id": "855b7540-fb4d-400c-8857-53a1dacb6c1d",
   "metadata": {},
   "outputs": [],
   "source": [
    "def education_recat(x):\n",
    "    if x == \"Bachelor's\":\n",
    "        return 1\n",
    "    elif x == \"Master's & above\" :\n",
    "        return 2\n",
    "    else :\n",
    "        return 0"
   ]
  },
  {
   "cell_type": "code",
   "execution_count": 126,
   "id": "6a16f0d8-f60e-410c-b3a5-c9462891e836",
   "metadata": {},
   "outputs": [],
   "source": [
    "df1['education_recat'] = df1['education'].apply(education_recat)"
   ]
  },
  {
   "cell_type": "code",
   "execution_count": 127,
   "id": "921dd0a3-c39d-48f5-b6ca-fafdee810afd",
   "metadata": {},
   "outputs": [
    {
     "data": {
      "text/plain": [
       "0        2\n",
       "1        1\n",
       "2        1\n",
       "3        1\n",
       "4        1\n",
       "        ..\n",
       "54803    1\n",
       "54804    2\n",
       "54805    1\n",
       "54806    0\n",
       "54807    1\n",
       "Name: education_recat, Length: 50684, dtype: int64"
      ]
     },
     "execution_count": 127,
     "metadata": {},
     "output_type": "execute_result"
    }
   ],
   "source": [
    "df1['education_recat'].astype('int64')"
   ]
  },
  {
   "cell_type": "code",
   "execution_count": 128,
   "id": "31be0ec2-05d8-424f-b8b2-2da6253a7c37",
   "metadata": {},
   "outputs": [
    {
     "data": {
      "text/html": [
       "<div>\n",
       "<style scoped>\n",
       "    .dataframe tbody tr th:only-of-type {\n",
       "        vertical-align: middle;\n",
       "    }\n",
       "\n",
       "    .dataframe tbody tr th {\n",
       "        vertical-align: top;\n",
       "    }\n",
       "\n",
       "    .dataframe thead th {\n",
       "        text-align: right;\n",
       "    }\n",
       "</style>\n",
       "<table border=\"1\" class=\"dataframe\">\n",
       "  <thead>\n",
       "    <tr style=\"text-align: right;\">\n",
       "      <th></th>\n",
       "      <th>department</th>\n",
       "      <th>region</th>\n",
       "      <th>education</th>\n",
       "      <th>gender</th>\n",
       "      <th>recruitment_channel</th>\n",
       "      <th>no_of_trainings</th>\n",
       "      <th>age</th>\n",
       "      <th>previous_year_rating</th>\n",
       "      <th>length_of_service</th>\n",
       "      <th>awards_won?</th>\n",
       "      <th>avg_training_score</th>\n",
       "      <th>is_promoted</th>\n",
       "      <th>age_recat</th>\n",
       "      <th>no_of_trainings_recat</th>\n",
       "      <th>length_of_service_recat</th>\n",
       "      <th>avg_training_score_recat</th>\n",
       "      <th>education_recat</th>\n",
       "    </tr>\n",
       "  </thead>\n",
       "  <tbody>\n",
       "    <tr>\n",
       "      <th>0</th>\n",
       "      <td>Sales &amp; Marketing</td>\n",
       "      <td>region_7</td>\n",
       "      <td>Master's &amp; above</td>\n",
       "      <td>f</td>\n",
       "      <td>sourcing</td>\n",
       "      <td>1</td>\n",
       "      <td>35</td>\n",
       "      <td>5.0</td>\n",
       "      <td>8</td>\n",
       "      <td>0</td>\n",
       "      <td>49</td>\n",
       "      <td>0</td>\n",
       "      <td>C</td>\n",
       "      <td>1</td>\n",
       "      <td>2</td>\n",
       "      <td>C</td>\n",
       "      <td>2</td>\n",
       "    </tr>\n",
       "    <tr>\n",
       "      <th>1</th>\n",
       "      <td>Operations</td>\n",
       "      <td>region_22</td>\n",
       "      <td>Bachelor's</td>\n",
       "      <td>m</td>\n",
       "      <td>other</td>\n",
       "      <td>1</td>\n",
       "      <td>30</td>\n",
       "      <td>5.0</td>\n",
       "      <td>4</td>\n",
       "      <td>0</td>\n",
       "      <td>60</td>\n",
       "      <td>0</td>\n",
       "      <td>B</td>\n",
       "      <td>1</td>\n",
       "      <td>1</td>\n",
       "      <td>C</td>\n",
       "      <td>1</td>\n",
       "    </tr>\n",
       "    <tr>\n",
       "      <th>2</th>\n",
       "      <td>Sales &amp; Marketing</td>\n",
       "      <td>region_19</td>\n",
       "      <td>Bachelor's</td>\n",
       "      <td>m</td>\n",
       "      <td>sourcing</td>\n",
       "      <td>1</td>\n",
       "      <td>34</td>\n",
       "      <td>3.0</td>\n",
       "      <td>7</td>\n",
       "      <td>0</td>\n",
       "      <td>50</td>\n",
       "      <td>0</td>\n",
       "      <td>C</td>\n",
       "      <td>1</td>\n",
       "      <td>2</td>\n",
       "      <td>C</td>\n",
       "      <td>1</td>\n",
       "    </tr>\n",
       "    <tr>\n",
       "      <th>3</th>\n",
       "      <td>Sales &amp; Marketing</td>\n",
       "      <td>region_23</td>\n",
       "      <td>Bachelor's</td>\n",
       "      <td>m</td>\n",
       "      <td>other</td>\n",
       "      <td>2</td>\n",
       "      <td>39</td>\n",
       "      <td>1.0</td>\n",
       "      <td>10</td>\n",
       "      <td>0</td>\n",
       "      <td>50</td>\n",
       "      <td>0</td>\n",
       "      <td>D</td>\n",
       "      <td>Others</td>\n",
       "      <td>2</td>\n",
       "      <td>C</td>\n",
       "      <td>1</td>\n",
       "    </tr>\n",
       "    <tr>\n",
       "      <th>4</th>\n",
       "      <td>Technology</td>\n",
       "      <td>region_26</td>\n",
       "      <td>Bachelor's</td>\n",
       "      <td>m</td>\n",
       "      <td>other</td>\n",
       "      <td>1</td>\n",
       "      <td>45</td>\n",
       "      <td>3.0</td>\n",
       "      <td>2</td>\n",
       "      <td>0</td>\n",
       "      <td>73</td>\n",
       "      <td>0</td>\n",
       "      <td>E</td>\n",
       "      <td>1</td>\n",
       "      <td>1</td>\n",
       "      <td>B</td>\n",
       "      <td>1</td>\n",
       "    </tr>\n",
       "  </tbody>\n",
       "</table>\n",
       "</div>"
      ],
      "text/plain": [
       "          department     region         education gender recruitment_channel  \\\n",
       "0  Sales & Marketing   region_7  Master's & above      f            sourcing   \n",
       "1         Operations  region_22        Bachelor's      m               other   \n",
       "2  Sales & Marketing  region_19        Bachelor's      m            sourcing   \n",
       "3  Sales & Marketing  region_23        Bachelor's      m               other   \n",
       "4         Technology  region_26        Bachelor's      m               other   \n",
       "\n",
       "   no_of_trainings  age  previous_year_rating  length_of_service awards_won?  \\\n",
       "0                1   35                   5.0                  8           0   \n",
       "1                1   30                   5.0                  4           0   \n",
       "2                1   34                   3.0                  7           0   \n",
       "3                2   39                   1.0                 10           0   \n",
       "4                1   45                   3.0                  2           0   \n",
       "\n",
       "   avg_training_score  is_promoted age_recat no_of_trainings_recat  \\\n",
       "0                  49            0         C                     1   \n",
       "1                  60            0         B                     1   \n",
       "2                  50            0         C                     1   \n",
       "3                  50            0         D                Others   \n",
       "4                  73            0         E                     1   \n",
       "\n",
       "  length_of_service_recat avg_training_score_recat  education_recat  \n",
       "0                       2                        C                2  \n",
       "1                       1                        C                1  \n",
       "2                       2                        C                1  \n",
       "3                       2                        C                1  \n",
       "4                       1                        B                1  "
      ]
     },
     "execution_count": 128,
     "metadata": {},
     "output_type": "execute_result"
    }
   ],
   "source": [
    "df1.head()"
   ]
  },
  {
   "cell_type": "markdown",
   "id": "ee298047-5520-4304-8ca9-6c786a146fee",
   "metadata": {},
   "source": [
    "df1.info()"
   ]
  },
  {
   "cell_type": "code",
   "execution_count": 129,
   "id": "71211cb0-6b50-4efd-9484-a86fc82520e1",
   "metadata": {},
   "outputs": [],
   "source": [
    "from sklearn.model_selection import train_test_split,GridSearchCV,StratifiedKFold,RandomizedSearchCV\n",
    "from sklearn.pipeline import Pipeline\n",
    "from sklearn.impute import SimpleImputer\n",
    "from sklearn.preprocessing import OneHotEncoder\n",
    "from sklearn.compose import ColumnTransformer\n",
    "from sklearn.neighbors import KNeighborsClassifier\n",
    "from sklearn.svm import SVC\n",
    "from sklearn.ensemble import RandomForestClassifier\n",
    "from sklearn.linear_model import LogisticRegression\n",
    "from sklearn.metrics import accuracy_score,recall_score,precision_score,f1_score,confusion_matrix,classification_report"
   ]
  },
  {
   "cell_type": "markdown",
   "id": "831529ce-b5dc-4eca-ad62-5144d1e6feef",
   "metadata": {},
   "source": [
    "- Data Splitting"
   ]
  },
  {
   "cell_type": "code",
   "execution_count": 130,
   "id": "1c703c25-e2be-4731-b6be-752444a26ec0",
   "metadata": {},
   "outputs": [],
   "source": [
    "X = df1[['department','region','education_recat','gender','recruitment_channel','no_of_trainings','age','previous_year_rating','length_of_service','awards_won?','avg_training_score']]"
   ]
  },
  {
   "cell_type": "code",
   "execution_count": 131,
   "id": "cd2134e3-17a8-4763-9f97-43315d5d94e9",
   "metadata": {},
   "outputs": [],
   "source": [
    "y = df1['is_promoted']"
   ]
  },
  {
   "cell_type": "code",
   "execution_count": 132,
   "id": "c0491ec2-10e2-4b8c-803f-fd0b1840c6c3",
   "metadata": {},
   "outputs": [
    {
     "data": {
      "text/plain": [
       "(50684, 11)"
      ]
     },
     "execution_count": 132,
     "metadata": {},
     "output_type": "execute_result"
    }
   ],
   "source": [
    "X.shape"
   ]
  },
  {
   "cell_type": "code",
   "execution_count": 133,
   "id": "5c6cbd43-d474-487b-9cfe-945707fab98b",
   "metadata": {},
   "outputs": [
    {
     "data": {
      "text/plain": [
       "(50684,)"
      ]
     },
     "execution_count": 133,
     "metadata": {},
     "output_type": "execute_result"
    }
   ],
   "source": [
    "y.shape"
   ]
  },
  {
   "cell_type": "code",
   "execution_count": 134,
   "id": "b439fd9a-3c4e-46d4-b9f7-756f67d4fe76",
   "metadata": {},
   "outputs": [],
   "source": [
    "X_train,X_test,y_train,y_test = train_test_split(X,y,train_size=.80,stratify=y,random_state=42)"
   ]
  },
  {
   "cell_type": "markdown",
   "id": "d34f45d5-b25f-47e9-8dc6-e2f05d56cd12",
   "metadata": {},
   "source": [
    "- Pipeline Base Model (KNN, Logistic Regression, SVC)"
   ]
  },
  {
   "cell_type": "code",
   "execution_count": 135,
   "id": "87f5926c-5276-4719-b51a-929527ca243f",
   "metadata": {},
   "outputs": [],
   "source": [
    "num_columns = ['education_recat','no_of_trainings','age','previous_year_rating','length_of_service','avg_training_score']\n",
    "\n",
    "cat_columns = ['department','region','gender','recruitment_channel','awards_won?']"
   ]
  },
  {
   "cell_type": "code",
   "execution_count": 136,
   "id": "ae4f98e1-5572-4828-8913-ab37f7e598f3",
   "metadata": {
    "tags": []
   },
   "outputs": [],
   "source": [
    "num_pipeline = Pipeline([\n",
    "    ('imputer',SimpleImputer(strategy='most_frequent')),\n",
    "])\n",
    "\n",
    "cat_pipeline = Pipeline([\n",
    "    ('imputer',SimpleImputer(strategy='most_frequent')),\n",
    "    ('encoder',OneHotEncoder())\n",
    "])"
   ]
  },
  {
   "cell_type": "code",
   "execution_count": 137,
   "id": "5d4c8039-e135-44cb-932c-e2ef585e6374",
   "metadata": {
    "tags": []
   },
   "outputs": [],
   "source": [
    "preprocessor = ColumnTransformer([\n",
    "    ('numeric',num_pipeline,num_columns),\n",
    "    ('categoric',cat_pipeline,cat_columns)\n",
    "])"
   ]
  },
  {
   "cell_type": "code",
   "execution_count": 138,
   "id": "0943ed66-bcb3-40d5-a193-5148012ce6d4",
   "metadata": {},
   "outputs": [],
   "source": [
    "Pipe_KNN = Pipeline([\n",
    "    ('prep',preprocessor),\n",
    "    ('algo',KNeighborsClassifier())\n",
    "])\n",
    "\n",
    "Pipe_RF = Pipeline([\n",
    "    ('prep',preprocessor),\n",
    "    ('algo',RandomForestClassifier(class_weight={0:0.1, 1:0.9}))\n",
    "])\n",
    "\n",
    "Pipe_LR = Pipeline([\n",
    "    ('prep',preprocessor),\n",
    "    ('algo',LogisticRegression(class_weight={0:0.1, 1:0.9},solver='liblinear'))\n",
    "])"
   ]
  },
  {
   "cell_type": "code",
   "execution_count": 139,
   "id": "7306b54e-fc73-43cf-9afd-cb4758e6e273",
   "metadata": {},
   "outputs": [
    {
     "data": {
      "text/plain": [
       "Pipeline(steps=[('prep',\n",
       "                 ColumnTransformer(transformers=[('numeric',\n",
       "                                                  Pipeline(steps=[('imputer',\n",
       "                                                                   SimpleImputer(strategy='most_frequent'))]),\n",
       "                                                  ['education_recat',\n",
       "                                                   'no_of_trainings', 'age',\n",
       "                                                   'previous_year_rating',\n",
       "                                                   'length_of_service',\n",
       "                                                   'avg_training_score']),\n",
       "                                                 ('categoric',\n",
       "                                                  Pipeline(steps=[('imputer',\n",
       "                                                                   SimpleImputer(strategy='most_frequent')),\n",
       "                                                                  ('encoder',\n",
       "                                                                   OneHotEncoder())]),\n",
       "                                                  ['department', 'region',\n",
       "                                                   'gender',\n",
       "                                                   'recruitment_channel',\n",
       "                                                   'awards_won?'])])),\n",
       "                ('algo', KNeighborsClassifier())])"
      ]
     },
     "execution_count": 139,
     "metadata": {},
     "output_type": "execute_result"
    }
   ],
   "source": [
    "Pipe_KNN.fit(X_train,y_train)"
   ]
  },
  {
   "cell_type": "code",
   "execution_count": 140,
   "id": "de596080-6a7f-44f0-b4e4-aaea0fa4e826",
   "metadata": {},
   "outputs": [
    {
     "data": {
      "text/plain": [
       "Pipeline(steps=[('prep',\n",
       "                 ColumnTransformer(transformers=[('numeric',\n",
       "                                                  Pipeline(steps=[('imputer',\n",
       "                                                                   SimpleImputer(strategy='most_frequent'))]),\n",
       "                                                  ['education_recat',\n",
       "                                                   'no_of_trainings', 'age',\n",
       "                                                   'previous_year_rating',\n",
       "                                                   'length_of_service',\n",
       "                                                   'avg_training_score']),\n",
       "                                                 ('categoric',\n",
       "                                                  Pipeline(steps=[('imputer',\n",
       "                                                                   SimpleImputer(strategy='most_frequent')),\n",
       "                                                                  ('encoder',\n",
       "                                                                   OneHotEncoder())]),\n",
       "                                                  ['department', 'region',\n",
       "                                                   'gender',\n",
       "                                                   'recruitment_channel',\n",
       "                                                   'awards_won?'])])),\n",
       "                ('algo',\n",
       "                 RandomForestClassifier(class_weight={0: 0.1, 1: 0.9}))])"
      ]
     },
     "execution_count": 140,
     "metadata": {},
     "output_type": "execute_result"
    }
   ],
   "source": [
    "Pipe_RF.fit(X_train,y_train)"
   ]
  },
  {
   "cell_type": "code",
   "execution_count": 141,
   "id": "5dba536b-05d2-4963-bf44-cbdbcf09c925",
   "metadata": {},
   "outputs": [
    {
     "data": {
      "text/plain": [
       "Pipeline(steps=[('prep',\n",
       "                 ColumnTransformer(transformers=[('numeric',\n",
       "                                                  Pipeline(steps=[('imputer',\n",
       "                                                                   SimpleImputer(strategy='most_frequent'))]),\n",
       "                                                  ['education_recat',\n",
       "                                                   'no_of_trainings', 'age',\n",
       "                                                   'previous_year_rating',\n",
       "                                                   'length_of_service',\n",
       "                                                   'avg_training_score']),\n",
       "                                                 ('categoric',\n",
       "                                                  Pipeline(steps=[('imputer',\n",
       "                                                                   SimpleImputer(strategy='most_frequent')),\n",
       "                                                                  ('encoder',\n",
       "                                                                   OneHotEncoder())]),\n",
       "                                                  ['department', 'region',\n",
       "                                                   'gender',\n",
       "                                                   'recruitment_channel',\n",
       "                                                   'awards_won?'])])),\n",
       "                ('algo',\n",
       "                 LogisticRegression(class_weight={0: 0.1, 1: 0.9},\n",
       "                                    solver='liblinear'))])"
      ]
     },
     "execution_count": 141,
     "metadata": {},
     "output_type": "execute_result"
    }
   ],
   "source": [
    "Pipe_LR.fit(X_train,y_train)"
   ]
  },
  {
   "cell_type": "markdown",
   "id": "fd198229-762c-45b7-b4ba-ee6ff3c01f6b",
   "metadata": {},
   "source": [
    "- Evaluation Matrix on Test Data"
   ]
  },
  {
   "cell_type": "code",
   "execution_count": 142,
   "id": "b2912d9d-aa9d-41fb-aff2-0b283c161727",
   "metadata": {},
   "outputs": [],
   "source": [
    "def Eva_Matrix_Class(Model,X,y_true):\n",
    "    y_pred = Model.predict(X)\n",
    "    acc = accuracy_score(y_true,y_pred)\n",
    "    rec = recall_score(y_true,y_pred)\n",
    "    prec = precision_score(y_true,y_pred)\n",
    "    f1 = f1_score(y_true,y_pred)\n",
    "    cm = confusion_matrix(y_true,y_pred,labels=[1,0])\n",
    "    df_cm = pd.DataFrame(data=cm,columns=['Pred 1','Pred 0'],index=['Akt 1','Akt 0'])\n",
    "    cr = classification_report(y_true,y_pred)\n",
    "    return acc, rec, prec, f1, df_cm, cr"
   ]
  },
  {
   "cell_type": "code",
   "execution_count": 143,
   "id": "2080fb9a-960e-489d-b009-be220546cfd7",
   "metadata": {},
   "outputs": [],
   "source": [
    "acc_KNN, rec_KNN, prec_KNN, f1_KNN, cm_KNN , cr_KNN = Eva_Matrix_Class(Pipe_KNN,X_test,y_test)\n",
    "acc_RF, rec_RF, prec_RF, f1_RF, cm_RF , cr_RF = Eva_Matrix_Class(Pipe_RF,X_test,y_test)\n",
    "acc_LR, rec_LR, prec_LR, f1_LR, cm_LR , cr_LR = Eva_Matrix_Class(Pipe_LR,X_test,y_test)"
   ]
  },
  {
   "cell_type": "code",
   "execution_count": 144,
   "id": "a5a670ee-b81b-4249-b25c-1f0413133145",
   "metadata": {},
   "outputs": [
    {
     "data": {
      "image/png": "[encoded data removed]",
      "text/plain": [
       "<Figure size 432x288 with 1 Axes>"
      ]
     },
     "metadata": {
      "needs_background": "light"
     },
     "output_type": "display_data"
    }
   ],
   "source": [
    "sns.heatmap(cm_KNN,cbar=False,annot=True);"
   ]
  },
  {
   "cell_type": "code",
   "execution_count": 145,
   "id": "825997d5-4307-429c-acfb-1bb0e8ed8041",
   "metadata": {},
   "outputs": [
    {
     "name": "stdout",
     "output_type": "stream",
     "text": [
      "              precision    recall  f1-score   support\n",
      "\n",
      "           0       0.93      1.00      0.96      9271\n",
      "           1       0.74      0.14      0.23       866\n",
      "\n",
      "    accuracy                           0.92     10137\n",
      "   macro avg       0.83      0.57      0.60     10137\n",
      "weighted avg       0.91      0.92      0.90     10137\n",
      "\n"
     ]
    }
   ],
   "source": [
    "print(cr_KNN)"
   ]
  },
  {
   "cell_type": "code",
   "execution_count": 146,
   "id": "39827f86-3425-41bc-8fd3-5a0f57a38d8c",
   "metadata": {},
   "outputs": [
    {
     "data": {
      "image/png": "[encoded data removed]",
      "text/plain": [
       "<Figure size 432x288 with 1 Axes>"
      ]
     },
     "metadata": {
      "needs_background": "light"
     },
     "output_type": "display_data"
    }
   ],
   "source": [
    "sns.heatmap(cm_RF,cbar=False,annot=True);"
   ]
  },
  {
   "cell_type": "code",
   "execution_count": 147,
   "id": "bd7e569d-cd62-40d0-ba4b-04b78a6755b9",
   "metadata": {},
   "outputs": [
    {
     "name": "stdout",
     "output_type": "stream",
     "text": [
      "              precision    recall  f1-score   support\n",
      "\n",
      "           0       0.94      1.00      0.97      9271\n",
      "           1       0.85      0.29      0.43       866\n",
      "\n",
      "    accuracy                           0.93     10137\n",
      "   macro avg       0.89      0.64      0.70     10137\n",
      "weighted avg       0.93      0.93      0.92     10137\n",
      "\n"
     ]
    }
   ],
   "source": [
    "print(cr_RF)"
   ]
  },
  {
   "cell_type": "code",
   "execution_count": 148,
   "id": "ed3e4036-d157-4393-88f1-bfa700c1721f",
   "metadata": {},
   "outputs": [
    {
     "data": {
      "image/png": "[encoded data removed]",
      "text/plain": [
       "<Figure size 432x288 with 1 Axes>"
      ]
     },
     "metadata": {
      "needs_background": "light"
     },
     "output_type": "display_data"
    }
   ],
   "source": [
    "sns.heatmap(cm_LR,cbar=False,annot=True);"
   ]
  },
  {
   "cell_type": "code",
   "execution_count": 149,
   "id": "7cd98448-cdce-464d-973e-39f26e6d418a",
   "metadata": {},
   "outputs": [
    {
     "name": "stdout",
     "output_type": "stream",
     "text": [
      "              precision    recall  f1-score   support\n",
      "\n",
      "           0       0.96      0.81      0.88      9271\n",
      "           1       0.24      0.63      0.35       866\n",
      "\n",
      "    accuracy                           0.80     10137\n",
      "   macro avg       0.60      0.72      0.61     10137\n",
      "weighted avg       0.90      0.80      0.83     10137\n",
      "\n"
     ]
    }
   ],
   "source": [
    "print(cr_LR)"
   ]
  },
  {
   "cell_type": "markdown",
   "id": "7986e54e-a8e3-4bb9-a581-b8651be8575b",
   "metadata": {},
   "source": [
    "- Hyperparameter Tuning"
   ]
  },
  {
   "cell_type": "code",
   "execution_count": 150,
   "id": "b7b8dafb-512e-4f55-8031-8dab154c53b1",
   "metadata": {},
   "outputs": [
    {
     "data": {
      "text/plain": [
       "{'memory': None,\n",
       " 'steps': [('prep', ColumnTransformer(transformers=[('numeric',\n",
       "                                    Pipeline(steps=[('imputer',\n",
       "                                                     SimpleImputer(strategy='most_frequent'))]),\n",
       "                                    ['education_recat', 'no_of_trainings', 'age',\n",
       "                                     'previous_year_rating', 'length_of_service',\n",
       "                                     'avg_training_score']),\n",
       "                                   ('categoric',\n",
       "                                    Pipeline(steps=[('imputer',\n",
       "                                                     SimpleImputer(strategy='most_frequent')),\n",
       "                                                    ('encoder', OneHotEncoder())]),\n",
       "                                    ['department', 'region', 'gender',\n",
       "                                     'recruitment_channel', 'awards_won?'])])),\n",
       "  ('algo', KNeighborsClassifier())],\n",
       " 'verbose': False,\n",
       " 'prep': ColumnTransformer(transformers=[('numeric',\n",
       "                                  Pipeline(steps=[('imputer',\n",
       "                                                   SimpleImputer(strategy='most_frequent'))]),\n",
       "                                  ['education_recat', 'no_of_trainings', 'age',\n",
       "                                   'previous_year_rating', 'length_of_service',\n",
       "                                   'avg_training_score']),\n",
       "                                 ('categoric',\n",
       "                                  Pipeline(steps=[('imputer',\n",
       "                                                   SimpleImputer(strategy='most_frequent')),\n",
       "                                                  ('encoder', OneHotEncoder())]),\n",
       "                                  ['department', 'region', 'gender',\n",
       "                                   'recruitment_channel', 'awards_won?'])]),\n",
       " 'algo': KNeighborsClassifier(),\n",
       " 'prep__n_jobs': None,\n",
       " 'prep__remainder': 'drop',\n",
       " 'prep__sparse_threshold': 0.3,\n",
       " 'prep__transformer_weights': None,\n",
       " 'prep__transformers': [('numeric',\n",
       "   Pipeline(steps=[('imputer', SimpleImputer(strategy='most_frequent'))]),\n",
       "   ['education_recat',\n",
       "    'no_of_trainings',\n",
       "    'age',\n",
       "    'previous_year_rating',\n",
       "    'length_of_service',\n",
       "    'avg_training_score']),\n",
       "  ('categoric',\n",
       "   Pipeline(steps=[('imputer', SimpleImputer(strategy='most_frequent')),\n",
       "                   ('encoder', OneHotEncoder())]),\n",
       "   ['department', 'region', 'gender', 'recruitment_channel', 'awards_won?'])],\n",
       " 'prep__verbose': False,\n",
       " 'prep__numeric': Pipeline(steps=[('imputer', SimpleImputer(strategy='most_frequent'))]),\n",
       " 'prep__categoric': Pipeline(steps=[('imputer', SimpleImputer(strategy='most_frequent')),\n",
       "                 ('encoder', OneHotEncoder())]),\n",
       " 'prep__numeric__memory': None,\n",
       " 'prep__numeric__steps': [('imputer',\n",
       "   SimpleImputer(strategy='most_frequent'))],\n",
       " 'prep__numeric__verbose': False,\n",
       " 'prep__numeric__imputer': SimpleImputer(strategy='most_frequent'),\n",
       " 'prep__numeric__imputer__add_indicator': False,\n",
       " 'prep__numeric__imputer__copy': True,\n",
       " 'prep__numeric__imputer__fill_value': None,\n",
       " 'prep__numeric__imputer__missing_values': nan,\n",
       " 'prep__numeric__imputer__strategy': 'most_frequent',\n",
       " 'prep__numeric__imputer__verbose': 0,\n",
       " 'prep__categoric__memory': None,\n",
       " 'prep__categoric__steps': [('imputer',\n",
       "   SimpleImputer(strategy='most_frequent')),\n",
       "  ('encoder', OneHotEncoder())],\n",
       " 'prep__categoric__verbose': False,\n",
       " 'prep__categoric__imputer': SimpleImputer(strategy='most_frequent'),\n",
       " 'prep__categoric__encoder': OneHotEncoder(),\n",
       " 'prep__categoric__imputer__add_indicator': False,\n",
       " 'prep__categoric__imputer__copy': True,\n",
       " 'prep__categoric__imputer__fill_value': None,\n",
       " 'prep__categoric__imputer__missing_values': nan,\n",
       " 'prep__categoric__imputer__strategy': 'most_frequent',\n",
       " 'prep__categoric__imputer__verbose': 0,\n",
       " 'prep__categoric__encoder__categories': 'auto',\n",
       " 'prep__categoric__encoder__drop': None,\n",
       " 'prep__categoric__encoder__dtype': numpy.float64,\n",
       " 'prep__categoric__encoder__handle_unknown': 'error',\n",
       " 'prep__categoric__encoder__sparse': True,\n",
       " 'algo__algorithm': 'auto',\n",
       " 'algo__leaf_size': 30,\n",
       " 'algo__metric': 'minkowski',\n",
       " 'algo__metric_params': None,\n",
       " 'algo__n_jobs': None,\n",
       " 'algo__n_neighbors': 5,\n",
       " 'algo__p': 2,\n",
       " 'algo__weights': 'uniform'}"
      ]
     },
     "execution_count": 150,
     "metadata": {},
     "output_type": "execute_result"
    }
   ],
   "source": [
    "Pipe_KNN.get_params()"
   ]
  },
  {
   "cell_type": "code",
   "execution_count": 151,
   "id": "3077d98e-0a55-44f9-96df-5ca77d224b76",
   "metadata": {},
   "outputs": [
    {
     "data": {
      "text/plain": [
       "{'memory': None,\n",
       " 'steps': [('prep', ColumnTransformer(transformers=[('numeric',\n",
       "                                    Pipeline(steps=[('imputer',\n",
       "                                                     SimpleImputer(strategy='most_frequent'))]),\n",
       "                                    ['education_recat', 'no_of_trainings', 'age',\n",
       "                                     'previous_year_rating', 'length_of_service',\n",
       "                                     'avg_training_score']),\n",
       "                                   ('categoric',\n",
       "                                    Pipeline(steps=[('imputer',\n",
       "                                                     SimpleImputer(strategy='most_frequent')),\n",
       "                                                    ('encoder', OneHotEncoder())]),\n",
       "                                    ['department', 'region', 'gender',\n",
       "                                     'recruitment_channel', 'awards_won?'])])),\n",
       "  ('algo', RandomForestClassifier(class_weight={0: 0.1, 1: 0.9}))],\n",
       " 'verbose': False,\n",
       " 'prep': ColumnTransformer(transformers=[('numeric',\n",
       "                                  Pipeline(steps=[('imputer',\n",
       "                                                   SimpleImputer(strategy='most_frequent'))]),\n",
       "                                  ['education_recat', 'no_of_trainings', 'age',\n",
       "                                   'previous_year_rating', 'length_of_service',\n",
       "                                   'avg_training_score']),\n",
       "                                 ('categoric',\n",
       "                                  Pipeline(steps=[('imputer',\n",
       "                                                   SimpleImputer(strategy='most_frequent')),\n",
       "                                                  ('encoder', OneHotEncoder())]),\n",
       "                                  ['department', 'region', 'gender',\n",
       "                                   'recruitment_channel', 'awards_won?'])]),\n",
       " 'algo': RandomForestClassifier(class_weight={0: 0.1, 1: 0.9}),\n",
       " 'prep__n_jobs': None,\n",
       " 'prep__remainder': 'drop',\n",
       " 'prep__sparse_threshold': 0.3,\n",
       " 'prep__transformer_weights': None,\n",
       " 'prep__transformers': [('numeric',\n",
       "   Pipeline(steps=[('imputer', SimpleImputer(strategy='most_frequent'))]),\n",
       "   ['education_recat',\n",
       "    'no_of_trainings',\n",
       "    'age',\n",
       "    'previous_year_rating',\n",
       "    'length_of_service',\n",
       "    'avg_training_score']),\n",
       "  ('categoric',\n",
       "   Pipeline(steps=[('imputer', SimpleImputer(strategy='most_frequent')),\n",
       "                   ('encoder', OneHotEncoder())]),\n",
       "   ['department', 'region', 'gender', 'recruitment_channel', 'awards_won?'])],\n",
       " 'prep__verbose': False,\n",
       " 'prep__numeric': Pipeline(steps=[('imputer', SimpleImputer(strategy='most_frequent'))]),\n",
       " 'prep__categoric': Pipeline(steps=[('imputer', SimpleImputer(strategy='most_frequent')),\n",
       "                 ('encoder', OneHotEncoder())]),\n",
       " 'prep__numeric__memory': None,\n",
       " 'prep__numeric__steps': [('imputer',\n",
       "   SimpleImputer(strategy='most_frequent'))],\n",
       " 'prep__numeric__verbose': False,\n",
       " 'prep__numeric__imputer': SimpleImputer(strategy='most_frequent'),\n",
       " 'prep__numeric__imputer__add_indicator': False,\n",
       " 'prep__numeric__imputer__copy': True,\n",
       " 'prep__numeric__imputer__fill_value': None,\n",
       " 'prep__numeric__imputer__missing_values': nan,\n",
       " 'prep__numeric__imputer__strategy': 'most_frequent',\n",
       " 'prep__numeric__imputer__verbose': 0,\n",
       " 'prep__categoric__memory': None,\n",
       " 'prep__categoric__steps': [('imputer',\n",
       "   SimpleImputer(strategy='most_frequent')),\n",
       "  ('encoder', OneHotEncoder())],\n",
       " 'prep__categoric__verbose': False,\n",
       " 'prep__categoric__imputer': SimpleImputer(strategy='most_frequent'),\n",
       " 'prep__categoric__encoder': OneHotEncoder(),\n",
       " 'prep__categoric__imputer__add_indicator': False,\n",
       " 'prep__categoric__imputer__copy': True,\n",
       " 'prep__categoric__imputer__fill_value': None,\n",
       " 'prep__categoric__imputer__missing_values': nan,\n",
       " 'prep__categoric__imputer__strategy': 'most_frequent',\n",
       " 'prep__categoric__imputer__verbose': 0,\n",
       " 'prep__categoric__encoder__categories': 'auto',\n",
       " 'prep__categoric__encoder__drop': None,\n",
       " 'prep__categoric__encoder__dtype': numpy.float64,\n",
       " 'prep__categoric__encoder__handle_unknown': 'error',\n",
       " 'prep__categoric__encoder__sparse': True,\n",
       " 'algo__bootstrap': True,\n",
       " 'algo__ccp_alpha': 0.0,\n",
       " 'algo__class_weight': {0: 0.1, 1: 0.9},\n",
       " 'algo__criterion': 'gini',\n",
       " 'algo__max_depth': None,\n",
       " 'algo__max_features': 'auto',\n",
       " 'algo__max_leaf_nodes': None,\n",
       " 'algo__max_samples': None,\n",
       " 'algo__min_impurity_decrease': 0.0,\n",
       " 'algo__min_impurity_split': None,\n",
       " 'algo__min_samples_leaf': 1,\n",
       " 'algo__min_samples_split': 2,\n",
       " 'algo__min_weight_fraction_leaf': 0.0,\n",
       " 'algo__n_estimators': 100,\n",
       " 'algo__n_jobs': None,\n",
       " 'algo__oob_score': False,\n",
       " 'algo__random_state': None,\n",
       " 'algo__verbose': 0,\n",
       " 'algo__warm_start': False}"
      ]
     },
     "execution_count": 151,
     "metadata": {},
     "output_type": "execute_result"
    }
   ],
   "source": [
    "Pipe_RF.get_params()"
   ]
  },
  {
   "cell_type": "code",
   "execution_count": 152,
   "id": "9f427ac4-5c1d-4db3-afa2-b01944f88e0b",
   "metadata": {},
   "outputs": [
    {
     "data": {
      "text/plain": [
       "{'memory': None,\n",
       " 'steps': [('prep', ColumnTransformer(transformers=[('numeric',\n",
       "                                    Pipeline(steps=[('imputer',\n",
       "                                                     SimpleImputer(strategy='most_frequent'))]),\n",
       "                                    ['education_recat', 'no_of_trainings', 'age',\n",
       "                                     'previous_year_rating', 'length_of_service',\n",
       "                                     'avg_training_score']),\n",
       "                                   ('categoric',\n",
       "                                    Pipeline(steps=[('imputer',\n",
       "                                                     SimpleImputer(strategy='most_frequent')),\n",
       "                                                    ('encoder', OneHotEncoder())]),\n",
       "                                    ['department', 'region', 'gender',\n",
       "                                     'recruitment_channel', 'awards_won?'])])),\n",
       "  ('algo',\n",
       "   LogisticRegression(class_weight={0: 0.1, 1: 0.9}, solver='liblinear'))],\n",
       " 'verbose': False,\n",
       " 'prep': ColumnTransformer(transformers=[('numeric',\n",
       "                                  Pipeline(steps=[('imputer',\n",
       "                                                   SimpleImputer(strategy='most_frequent'))]),\n",
       "                                  ['education_recat', 'no_of_trainings', 'age',\n",
       "                                   'previous_year_rating', 'length_of_service',\n",
       "                                   'avg_training_score']),\n",
       "                                 ('categoric',\n",
       "                                  Pipeline(steps=[('imputer',\n",
       "                                                   SimpleImputer(strategy='most_frequent')),\n",
       "                                                  ('encoder', OneHotEncoder())]),\n",
       "                                  ['department', 'region', 'gender',\n",
       "                                   'recruitment_channel', 'awards_won?'])]),\n",
       " 'algo': LogisticRegression(class_weight={0: 0.1, 1: 0.9}, solver='liblinear'),\n",
       " 'prep__n_jobs': None,\n",
       " 'prep__remainder': 'drop',\n",
       " 'prep__sparse_threshold': 0.3,\n",
       " 'prep__transformer_weights': None,\n",
       " 'prep__transformers': [('numeric',\n",
       "   Pipeline(steps=[('imputer', SimpleImputer(strategy='most_frequent'))]),\n",
       "   ['education_recat',\n",
       "    'no_of_trainings',\n",
       "    'age',\n",
       "    'previous_year_rating',\n",
       "    'length_of_service',\n",
       "    'avg_training_score']),\n",
       "  ('categoric',\n",
       "   Pipeline(steps=[('imputer', SimpleImputer(strategy='most_frequent')),\n",
       "                   ('encoder', OneHotEncoder())]),\n",
       "   ['department', 'region', 'gender', 'recruitment_channel', 'awards_won?'])],\n",
       " 'prep__verbose': False,\n",
       " 'prep__numeric': Pipeline(steps=[('imputer', SimpleImputer(strategy='most_frequent'))]),\n",
       " 'prep__categoric': Pipeline(steps=[('imputer', SimpleImputer(strategy='most_frequent')),\n",
       "                 ('encoder', OneHotEncoder())]),\n",
       " 'prep__numeric__memory': None,\n",
       " 'prep__numeric__steps': [('imputer',\n",
       "   SimpleImputer(strategy='most_frequent'))],\n",
       " 'prep__numeric__verbose': False,\n",
       " 'prep__numeric__imputer': SimpleImputer(strategy='most_frequent'),\n",
       " 'prep__numeric__imputer__add_indicator': False,\n",
       " 'prep__numeric__imputer__copy': True,\n",
       " 'prep__numeric__imputer__fill_value': None,\n",
       " 'prep__numeric__imputer__missing_values': nan,\n",
       " 'prep__numeric__imputer__strategy': 'most_frequent',\n",
       " 'prep__numeric__imputer__verbose': 0,\n",
       " 'prep__categoric__memory': None,\n",
       " 'prep__categoric__steps': [('imputer',\n",
       "   SimpleImputer(strategy='most_frequent')),\n",
       "  ('encoder', OneHotEncoder())],\n",
       " 'prep__categoric__verbose': False,\n",
       " 'prep__categoric__imputer': SimpleImputer(strategy='most_frequent'),\n",
       " 'prep__categoric__encoder': OneHotEncoder(),\n",
       " 'prep__categoric__imputer__add_indicator': False,\n",
       " 'prep__categoric__imputer__copy': True,\n",
       " 'prep__categoric__imputer__fill_value': None,\n",
       " 'prep__categoric__imputer__missing_values': nan,\n",
       " 'prep__categoric__imputer__strategy': 'most_frequent',\n",
       " 'prep__categoric__imputer__verbose': 0,\n",
       " 'prep__categoric__encoder__categories': 'auto',\n",
       " 'prep__categoric__encoder__drop': None,\n",
       " 'prep__categoric__encoder__dtype': numpy.float64,\n",
       " 'prep__categoric__encoder__handle_unknown': 'error',\n",
       " 'prep__categoric__encoder__sparse': True,\n",
       " 'algo__C': 1.0,\n",
       " 'algo__class_weight': {0: 0.1, 1: 0.9},\n",
       " 'algo__dual': False,\n",
       " 'algo__fit_intercept': True,\n",
       " 'algo__intercept_scaling': 1,\n",
       " 'algo__l1_ratio': None,\n",
       " 'algo__max_iter': 100,\n",
       " 'algo__multi_class': 'auto',\n",
       " 'algo__n_jobs': None,\n",
       " 'algo__penalty': 'l2',\n",
       " 'algo__random_state': None,\n",
       " 'algo__solver': 'liblinear',\n",
       " 'algo__tol': 0.0001,\n",
       " 'algo__verbose': 0,\n",
       " 'algo__warm_start': False}"
      ]
     },
     "execution_count": 152,
     "metadata": {},
     "output_type": "execute_result"
    }
   ],
   "source": [
    "Pipe_LR.get_params()"
   ]
  },
  {
   "cell_type": "code",
   "execution_count": 153,
   "id": "c08acbaa-77bc-4c1d-94df-e5e78fc62904",
   "metadata": {},
   "outputs": [],
   "source": [
    "# Iteration 1 : n-neighbors = 1-9 >> result best param = 9\n",
    "# Iteration 2 : n-neighbors = 9-19 >> result best param = 9"
   ]
  },
  {
   "cell_type": "code",
   "execution_count": 154,
   "id": "d1cde387-f58f-4acb-a16b-64eac3fcdcff",
   "metadata": {},
   "outputs": [],
   "source": [
    "param_KNN = {\n",
    "    'algo__n_neighbors' : np.arange(9,20,2),\n",
    "    'algo__weights' : ['uniform','distance']\n",
    "}"
   ]
  },
  {
   "cell_type": "code",
   "execution_count": 155,
   "id": "b4cf701b-d8c8-4639-a3b7-02288b12c8cf",
   "metadata": {},
   "outputs": [],
   "source": [
    "param_RF = {\n",
    "    'algo__max_depth' : np.arange(10,100),\n",
    "    'algo__min_samples_leaf' : np.arange(1,5),\n",
    "    'algo__class_weight' : [{0:i,1:(1-i)} for i in [0.1,0.2,0.3,0.4]],\n",
    "}"
   ]
  },
  {
   "cell_type": "code",
   "execution_count": 156,
   "id": "9f591ed5-b317-482f-bc5e-458567a9bf69",
   "metadata": {},
   "outputs": [],
   "source": [
    "param_LR = {\n",
    "    'algo__C' : np.arange(1,11,2),\n",
    "    'algo__class_weight' : [{0:i,1:(1-i)} for i in [0.1,0.2,0.3,0.4]],\n",
    "    'algo__l1_ratio' : np.arange(0,1.1,0.2)\n",
    "}"
   ]
  },
  {
   "cell_type": "code",
   "execution_count": 157,
   "id": "a3091231-d3c1-47eb-bbf3-b1f6ddf8252a",
   "metadata": {},
   "outputs": [],
   "source": [
    "skf = StratifiedKFold(n_splits=3,random_state=42,shuffle=True)"
   ]
  },
  {
   "cell_type": "code",
   "execution_count": 158,
   "id": "d58f283e-801f-48cd-95b9-acd763d7aba4",
   "metadata": {},
   "outputs": [],
   "source": [
    "GS_KNN = GridSearchCV(Pipe_KNN,param_KNN, cv=skf, scoring='f1',verbose=1)"
   ]
  },
  {
   "cell_type": "code",
   "execution_count": 159,
   "id": "37f0e147-b2f4-4fce-ab5f-ab91dd696f96",
   "metadata": {},
   "outputs": [
    {
     "name": "stdout",
     "output_type": "stream",
     "text": [
      "Fitting 3 folds for each of 12 candidates, totalling 36 fits\n"
     ]
    },
    {
     "name": "stderr",
     "output_type": "stream",
     "text": [
      "[Parallel(n_jobs=1)]: Using backend SequentialBackend with 1 concurrent workers.\n",
      "[Parallel(n_jobs=1)]: Done  36 out of  36 | elapsed:  9.1min finished\n"
     ]
    },
    {
     "data": {
      "text/plain": [
       "GridSearchCV(cv=StratifiedKFold(n_splits=3, random_state=42, shuffle=True),\n",
       "             estimator=Pipeline(steps=[('prep',\n",
       "                                        ColumnTransformer(transformers=[('numeric',\n",
       "                                                                         Pipeline(steps=[('imputer',\n",
       "                                                                                          SimpleImputer(strategy='most_frequent'))]),\n",
       "                                                                         ['education_recat',\n",
       "                                                                          'no_of_trainings',\n",
       "                                                                          'age',\n",
       "                                                                          'previous_year_rating',\n",
       "                                                                          'length_of_service',\n",
       "                                                                          'avg_training_score']),\n",
       "                                                                        ('categoric',\n",
       "                                                                         Pipeline(steps=[('imputer',\n",
       "                                                                                          SimpleImputer(strategy='most_frequent')),\n",
       "                                                                                         ('encoder',\n",
       "                                                                                          OneHotEncoder())]),\n",
       "                                                                         ['department',\n",
       "                                                                          'region',\n",
       "                                                                          'gender',\n",
       "                                                                          'recruitment_channel',\n",
       "                                                                          'awards_won?'])])),\n",
       "                                       ('algo', KNeighborsClassifier())]),\n",
       "             param_grid={'algo__n_neighbors': array([ 9, 11, 13, 15, 17, 19]),\n",
       "                         'algo__weights': ['uniform', 'distance']},\n",
       "             scoring='f1', verbose=1)"
      ]
     },
     "execution_count": 159,
     "metadata": {},
     "output_type": "execute_result"
    }
   ],
   "source": [
    "GS_KNN.fit(X_train,y_train)"
   ]
  },
  {
   "cell_type": "code",
   "execution_count": 160,
   "id": "3d6efcd1-9a5e-4eff-be1e-24de7a383f05",
   "metadata": {},
   "outputs": [
    {
     "data": {
      "text/plain": [
       "{'algo__n_neighbors': 9, 'algo__weights': 'distance'}"
      ]
     },
     "execution_count": 160,
     "metadata": {},
     "output_type": "execute_result"
    }
   ],
   "source": [
    "GS_KNN.best_params_"
   ]
  },
  {
   "cell_type": "code",
   "execution_count": 161,
   "id": "c79db6f9-fd0a-458f-b512-ce099385263c",
   "metadata": {},
   "outputs": [],
   "source": [
    "KNN_Tuned = GS_KNN.best_estimator_"
   ]
  },
  {
   "cell_type": "code",
   "execution_count": 162,
   "id": "5a1c80eb-0eb2-4a96-914f-92e947a969dc",
   "metadata": {},
   "outputs": [],
   "source": [
    "acc_KNN_Tuned, rec_KNN_Tuned, prec_KNN_Tuned, f1_KNN_Tuned, cm_KNN_Tuned , cr_KNN_Tuned = Eva_Matrix_Class(KNN_Tuned,X_test,y_test)"
   ]
  },
  {
   "cell_type": "code",
   "execution_count": 163,
   "id": "770bb7d4-022f-4f92-bba3-b25a18b176b6",
   "metadata": {},
   "outputs": [
    {
     "data": {
      "image/png": "[encoded data removed]",
      "text/plain": [
       "<Figure size 432x288 with 1 Axes>"
      ]
     },
     "metadata": {
      "needs_background": "light"
     },
     "output_type": "display_data"
    }
   ],
   "source": [
    "sns.heatmap(cm_KNN_Tuned,cbar=False,annot=True);"
   ]
  },
  {
   "cell_type": "code",
   "execution_count": 164,
   "id": "7812dbdf-67f3-4aad-b3e1-2fa90c56204d",
   "metadata": {},
   "outputs": [
    {
     "name": "stdout",
     "output_type": "stream",
     "text": [
      "              precision    recall  f1-score   support\n",
      "\n",
      "           0       0.92      1.00      0.96      9271\n",
      "           1       0.87      0.12      0.21       866\n",
      "\n",
      "    accuracy                           0.92     10137\n",
      "   macro avg       0.90      0.56      0.59     10137\n",
      "weighted avg       0.92      0.92      0.90     10137\n",
      "\n"
     ]
    }
   ],
   "source": [
    "print(cr_KNN_Tuned)"
   ]
  },
  {
   "cell_type": "code",
   "execution_count": 165,
   "id": "19691de9-d68b-44f6-b61f-85bdb786da97",
   "metadata": {},
   "outputs": [],
   "source": [
    "RS_RF = RandomizedSearchCV(Pipe_RF,param_RF, cv=skf, scoring='f1',verbose=1,n_iter=100)"
   ]
  },
  {
   "cell_type": "code",
   "execution_count": 166,
   "id": "92b3c78b-da08-4779-8f97-96604610dc8b",
   "metadata": {},
   "outputs": [
    {
     "name": "stdout",
     "output_type": "stream",
     "text": [
      "Fitting 3 folds for each of 100 candidates, totalling 300 fits\n"
     ]
    },
    {
     "name": "stderr",
     "output_type": "stream",
     "text": [
      "[Parallel(n_jobs=1)]: Using backend SequentialBackend with 1 concurrent workers.\n",
      "[Parallel(n_jobs=1)]: Done 300 out of 300 | elapsed: 51.2min finished\n"
     ]
    },
    {
     "data": {
      "text/plain": [
       "RandomizedSearchCV(cv=StratifiedKFold(n_splits=3, random_state=42, shuffle=True),\n",
       "                   estimator=Pipeline(steps=[('prep',\n",
       "                                              ColumnTransformer(transformers=[('numeric',\n",
       "                                                                               Pipeline(steps=[('imputer',\n",
       "                                                                                                SimpleImputer(strategy='most_frequent'))]),\n",
       "                                                                               ['education_recat',\n",
       "                                                                                'no_of_trainings',\n",
       "                                                                                'age',\n",
       "                                                                                'previous_year_rating',\n",
       "                                                                                'length_of_service',\n",
       "                                                                                'avg_training_score']),\n",
       "                                                                              ('categoric',\n",
       "                                                                               Pi...\n",
       "                                        'algo__max_depth': array([10, 11, 12, 13, 14, 15, 16, 17, 18, 19, 20, 21, 22, 23, 24, 25, 26,\n",
       "       27, 28, 29, 30, 31, 32, 33, 34, 35, 36, 37, 38, 39, 40, 41, 42, 43,\n",
       "       44, 45, 46, 47, 48, 49, 50, 51, 52, 53, 54, 55, 56, 57, 58, 59, 60,\n",
       "       61, 62, 63, 64, 65, 66, 67, 68, 69, 70, 71, 72, 73, 74, 75, 76, 77,\n",
       "       78, 79, 80, 81, 82, 83, 84, 85, 86, 87, 88, 89, 90, 91, 92, 93, 94,\n",
       "       95, 96, 97, 98, 99]),\n",
       "                                        'algo__min_samples_leaf': array([1, 2, 3, 4])},\n",
       "                   scoring='f1', verbose=1)"
      ]
     },
     "execution_count": 166,
     "metadata": {},
     "output_type": "execute_result"
    }
   ],
   "source": [
    "RS_RF.fit(X_train,y_train)"
   ]
  },
  {
   "cell_type": "code",
   "execution_count": 167,
   "id": "8a4537b3-74c2-40fa-a11e-79b2018d623a",
   "metadata": {},
   "outputs": [
    {
     "data": {
      "text/plain": [
       "{'algo__min_samples_leaf': 2,\n",
       " 'algo__max_depth': 34,\n",
       " 'algo__class_weight': {0: 0.1, 1: 0.9}}"
      ]
     },
     "execution_count": 167,
     "metadata": {},
     "output_type": "execute_result"
    }
   ],
   "source": [
    "RS_RF.best_params_"
   ]
  },
  {
   "cell_type": "code",
   "execution_count": 195,
   "id": "7b92f522-1471-4cd7-9ba7-b8afe72c7c14",
   "metadata": {},
   "outputs": [],
   "source": [
    "RF_Tuned = RS_RF.best_estimator_"
   ]
  },
  {
   "cell_type": "code",
   "execution_count": 196,
   "id": "df0591e0-6995-4cda-a9a9-fe2f72c962e0",
   "metadata": {},
   "outputs": [],
   "source": [
    "acc_RF_Tuned, rec_RF_Tuned, prec_RF_Tuned, f1_RF_Tuned, cm_RF_Tuned , cr_RF_Tuned = Eva_Matrix_Class(RF_Tuned,X_test,y_test)"
   ]
  },
  {
   "cell_type": "code",
   "execution_count": 197,
   "id": "ddb90479-d423-4a6c-a892-ec6d939fb54d",
   "metadata": {},
   "outputs": [
    {
     "data": {
      "image/png": "[encoded data removed]",
      "text/plain": [
       "<Figure size 432x288 with 1 Axes>"
      ]
     },
     "metadata": {
      "needs_background": "light"
     },
     "output_type": "display_data"
    }
   ],
   "source": [
    "sns.heatmap(cm_RF_Tuned,cbar=False,annot=True);"
   ]
  },
  {
   "cell_type": "code",
   "execution_count": 171,
   "id": "213f5200-d78f-4113-b254-82e32354deb6",
   "metadata": {},
   "outputs": [
    {
     "name": "stdout",
     "output_type": "stream",
     "text": [
      "              precision    recall  f1-score   support\n",
      "\n",
      "           0       0.95      0.97      0.96      9271\n",
      "           1       0.59      0.41      0.48       866\n",
      "\n",
      "    accuracy                           0.93     10137\n",
      "   macro avg       0.77      0.69      0.72     10137\n",
      "weighted avg       0.92      0.93      0.92     10137\n",
      "\n"
     ]
    }
   ],
   "source": [
    "print(cr_RF_Tuned)"
   ]
  },
  {
   "cell_type": "code",
   "execution_count": 172,
   "id": "b7af9236-4b9f-4960-8719-7f5b887d1b2a",
   "metadata": {},
   "outputs": [],
   "source": [
    "GS_LR = GridSearchCV(Pipe_LR,param_LR, cv=skf, scoring='f1',verbose=1)"
   ]
  },
  {
   "cell_type": "code",
   "execution_count": 173,
   "id": "eb443918-dedd-414f-affb-80180ba2963a",
   "metadata": {},
   "outputs": [
    {
     "name": "stdout",
     "output_type": "stream",
     "text": [
      "Fitting 3 folds for each of 120 candidates, totalling 360 fits\n"
     ]
    },
    {
     "name": "stderr",
     "output_type": "stream",
     "text": [
      "[Parallel(n_jobs=1)]: Using backend SequentialBackend with 1 concurrent workers.\n",
      "[Parallel(n_jobs=1)]: Done 360 out of 360 | elapsed:  6.1min finished\n"
     ]
    },
    {
     "data": {
      "text/plain": [
       "GridSearchCV(cv=StratifiedKFold(n_splits=3, random_state=42, shuffle=True),\n",
       "             estimator=Pipeline(steps=[('prep',\n",
       "                                        ColumnTransformer(transformers=[('numeric',\n",
       "                                                                         Pipeline(steps=[('imputer',\n",
       "                                                                                          SimpleImputer(strategy='most_frequent'))]),\n",
       "                                                                         ['education_recat',\n",
       "                                                                          'no_of_trainings',\n",
       "                                                                          'age',\n",
       "                                                                          'previous_year_rating',\n",
       "                                                                          'length_of_service',\n",
       "                                                                          'avg_training_score']),\n",
       "                                                                        ('categoric',\n",
       "                                                                         Pipeline...\n",
       "                                                                                          OneHotEncoder())]),\n",
       "                                                                         ['department',\n",
       "                                                                          'region',\n",
       "                                                                          'gender',\n",
       "                                                                          'recruitment_channel',\n",
       "                                                                          'awards_won?'])])),\n",
       "                                       ('algo',\n",
       "                                        LogisticRegression(class_weight={0: 0.1,\n",
       "                                                                         1: 0.9},\n",
       "                                                           solver='liblinear'))]),\n",
       "             param_grid={'algo__C': array([1, 3, 5, 7, 9]),\n",
       "                         'algo__class_weight': [{0: 0.1, 1: 0.9},\n",
       "                                                {0: 0.2, 1: 0.8},\n",
       "                                                {0: 0.3, 1: 0.7},\n",
       "                                                {0: 0.4, 1: 0.6}],\n",
       "                         'algo__l1_ratio': array([0. , 0.2, 0.4, 0.6, 0.8, 1. ])},\n",
       "             scoring='f1', verbose=1)"
      ]
     },
     "execution_count": 173,
     "metadata": {},
     "output_type": "execute_result"
    }
   ],
   "source": [
    "GS_LR.fit(X_train,y_train)"
   ]
  },
  {
   "cell_type": "code",
   "execution_count": 174,
   "id": "55e6a5ce-5026-4838-8892-f383c22ec0e9",
   "metadata": {},
   "outputs": [
    {
     "data": {
      "text/plain": [
       "{'algo__C': 9, 'algo__class_weight': {0: 0.3, 1: 0.7}, 'algo__l1_ratio': 0.0}"
      ]
     },
     "execution_count": 174,
     "metadata": {},
     "output_type": "execute_result"
    }
   ],
   "source": [
    "GS_LR.best_params_"
   ]
  },
  {
   "cell_type": "code",
   "execution_count": 175,
   "id": "bac4d203-6987-4eca-b367-7498f532a750",
   "metadata": {},
   "outputs": [],
   "source": [
    "LR_Tuned = GS_LR.best_estimator_"
   ]
  },
  {
   "cell_type": "code",
   "execution_count": 176,
   "id": "9d228e1a-3f05-4d7a-8eb7-8541a017feb6",
   "metadata": {},
   "outputs": [],
   "source": [
    "acc_LR_Tuned, rec_LR_Tuned, prec_LR_Tuned, f1_LR_Tuned, cm_LR_Tuned , cr_LR_Tuned = Eva_Matrix_Class(LR_Tuned,X_test,y_test)"
   ]
  },
  {
   "cell_type": "code",
   "execution_count": 177,
   "id": "4a0b75ef-4ae9-444a-8949-95b2dbe1ff2f",
   "metadata": {},
   "outputs": [
    {
     "data": {
      "image/png": "[encoded data removed]",
      "text/plain": [
       "<Figure size 432x288 with 1 Axes>"
      ]
     },
     "metadata": {
      "needs_background": "light"
     },
     "output_type": "display_data"
    }
   ],
   "source": [
    "sns.heatmap(cm_LR_Tuned,cbar=False,annot=True);"
   ]
  },
  {
   "cell_type": "code",
   "execution_count": 178,
   "id": "ba88a949-a4d1-4366-918b-0bae40749503",
   "metadata": {},
   "outputs": [
    {
     "name": "stdout",
     "output_type": "stream",
     "text": [
      "              precision    recall  f1-score   support\n",
      "\n",
      "           0       0.94      0.99      0.97      9271\n",
      "           1       0.75      0.38      0.50       866\n",
      "\n",
      "    accuracy                           0.94     10137\n",
      "   macro avg       0.85      0.68      0.74     10137\n",
      "weighted avg       0.93      0.94      0.93     10137\n",
      "\n"
     ]
    }
   ],
   "source": [
    "print(cr_LR_Tuned)"
   ]
  },
  {
   "cell_type": "markdown",
   "id": "2ccf9532-aceb-4afe-a1e5-1338e17cad45",
   "metadata": {},
   "source": [
    "- Feature Engineering (Feature Selection)\n",
    "    - From Correlation Ratio and Association on Features, we select the no_of_trainings, previous_year_rating, and awards_won for modelling"
   ]
  },
  {
   "cell_type": "code",
   "execution_count": 198,
   "id": "d20d2a6d-2f47-4b82-bd7e-77f5bacbaf4c",
   "metadata": {},
   "outputs": [],
   "source": [
    "X_select = df1[['avg_training_score','previous_year_rating','awards_won?']]"
   ]
  },
  {
   "cell_type": "code",
   "execution_count": 199,
   "id": "604c083d-bc46-48a8-b898-42f64ef97c59",
   "metadata": {},
   "outputs": [],
   "source": [
    "y_select = df1['is_promoted']"
   ]
  },
  {
   "cell_type": "code",
   "execution_count": 200,
   "id": "4b681cda-2d50-495d-bb2a-c74e74ef8379",
   "metadata": {},
   "outputs": [],
   "source": [
    "X_train_select,X_test_select,y_train_select,y_test_select = train_test_split(X_select,y_select,train_size=.80,stratify=y_select,random_state=42)"
   ]
  },
  {
   "cell_type": "code",
   "execution_count": 205,
   "id": "abf2b900-ed94-48d2-b669-06d7406bd6a3",
   "metadata": {},
   "outputs": [],
   "source": [
    "num_columns1 = ['avg_training_score','previous_year_rating']\n",
    "\n",
    "cat_columns1 = ['awards_won?']\n",
    "\n",
    "num_pipeline1 = Pipeline([\n",
    "    ('imputer',SimpleImputer(strategy='most_frequent')),\n",
    "])\n",
    "\n",
    "cat_pipeline1 = Pipeline([\n",
    "    ('imputer',SimpleImputer(strategy='most_frequent')),\n",
    "    ('encoder',OneHotEncoder())\n",
    "])\n",
    "\n",
    "preprocessor1 = ColumnTransformer([\n",
    "    ('numeric',num_pipeline1,num_columns1),\n",
    "    ('categoric',cat_pipeline1,cat_columns1)\n",
    "])\n",
    "\n",
    "Pipe_KNN_select = Pipeline([\n",
    "    ('prep',preprocessor1),\n",
    "    ('algo',KNeighborsClassifier())\n",
    "])\n",
    "\n",
    "Pipe_RF_select = Pipeline([\n",
    "    ('prep',preprocessor1),\n",
    "    ('algo',RandomForestClassifier(class_weight={0:0.1, 1:0.9}))\n",
    "])\n",
    "\n",
    "Pipe_LR_select = Pipeline([\n",
    "    ('prep',preprocessor1),\n",
    "    ('algo',LogisticRegression(class_weight={0:0.1, 1:0.9},solver='liblinear'))\n",
    "])"
   ]
  },
  {
   "cell_type": "code",
   "execution_count": 206,
   "id": "d2e9faec-d695-4a20-90fc-56907f1f34e4",
   "metadata": {},
   "outputs": [
    {
     "data": {
      "text/plain": [
       "Pipeline(steps=[('prep',\n",
       "                 ColumnTransformer(transformers=[('numeric',\n",
       "                                                  Pipeline(steps=[('imputer',\n",
       "                                                                   SimpleImputer(strategy='most_frequent'))]),\n",
       "                                                  ['avg_training_score',\n",
       "                                                   'previous_year_rating']),\n",
       "                                                 ('categoric',\n",
       "                                                  Pipeline(steps=[('imputer',\n",
       "                                                                   SimpleImputer(strategy='most_frequent')),\n",
       "                                                                  ('encoder',\n",
       "                                                                   OneHotEncoder())]),\n",
       "                                                  ['awards_won?'])])),\n",
       "                ('algo', KNeighborsClassifier())])"
      ]
     },
     "execution_count": 206,
     "metadata": {},
     "output_type": "execute_result"
    }
   ],
   "source": [
    "Pipe_KNN_select.fit(X_train_select,y_train_select)"
   ]
  },
  {
   "cell_type": "code",
   "execution_count": 207,
   "id": "18214c83-794c-40a1-932e-2dd430e3954e",
   "metadata": {},
   "outputs": [
    {
     "data": {
      "text/plain": [
       "Pipeline(steps=[('prep',\n",
       "                 ColumnTransformer(transformers=[('numeric',\n",
       "                                                  Pipeline(steps=[('imputer',\n",
       "                                                                   SimpleImputer(strategy='most_frequent'))]),\n",
       "                                                  ['avg_training_score',\n",
       "                                                   'previous_year_rating']),\n",
       "                                                 ('categoric',\n",
       "                                                  Pipeline(steps=[('imputer',\n",
       "                                                                   SimpleImputer(strategy='most_frequent')),\n",
       "                                                                  ('encoder',\n",
       "                                                                   OneHotEncoder())]),\n",
       "                                                  ['awards_won?'])])),\n",
       "                ('algo',\n",
       "                 RandomForestClassifier(class_weight={0: 0.1, 1: 0.9}))])"
      ]
     },
     "execution_count": 207,
     "metadata": {},
     "output_type": "execute_result"
    }
   ],
   "source": [
    "Pipe_RF_select.fit(X_train_select,y_train_select)"
   ]
  },
  {
   "cell_type": "code",
   "execution_count": 208,
   "id": "b559c321-3db3-493c-8043-8dcc076ac558",
   "metadata": {},
   "outputs": [
    {
     "data": {
      "text/plain": [
       "Pipeline(steps=[('prep',\n",
       "                 ColumnTransformer(transformers=[('numeric',\n",
       "                                                  Pipeline(steps=[('imputer',\n",
       "                                                                   SimpleImputer(strategy='most_frequent'))]),\n",
       "                                                  ['avg_training_score',\n",
       "                                                   'previous_year_rating']),\n",
       "                                                 ('categoric',\n",
       "                                                  Pipeline(steps=[('imputer',\n",
       "                                                                   SimpleImputer(strategy='most_frequent')),\n",
       "                                                                  ('encoder',\n",
       "                                                                   OneHotEncoder())]),\n",
       "                                                  ['awards_won?'])])),\n",
       "                ('algo',\n",
       "                 LogisticRegression(class_weight={0: 0.1, 1: 0.9},\n",
       "                                    solver='liblinear'))])"
      ]
     },
     "execution_count": 208,
     "metadata": {},
     "output_type": "execute_result"
    }
   ],
   "source": [
    "Pipe_LR_select.fit(X_train_select,y_train_select)"
   ]
  },
  {
   "cell_type": "code",
   "execution_count": 209,
   "id": "b65bcbbf-0ab5-43b6-8bbd-32f64259808b",
   "metadata": {},
   "outputs": [],
   "source": [
    "acc_KNN_select, rec_KNN_select, prec_KNN_select, f1_KNN_select, cm_KNN_select , cr_KNN_select = Eva_Matrix_Class(Pipe_KNN_select,X_test_select,y_test_select)\n",
    "acc_RF_select, rec_RF_select, prec_RF_select, f1_RF_select, cm_RF_select , cr_RF_select = Eva_Matrix_Class(Pipe_RF_select,X_test_select,y_test_select)\n",
    "acc_LR_select, rec_LR_select, prec_LR_select, f1_LR_select, cm_LR_select , cr_LR_select = Eva_Matrix_Class(Pipe_LR_select,X_test_select,y_test_select)"
   ]
  },
  {
   "cell_type": "code",
   "execution_count": 210,
   "id": "8cbfa274-1457-4c40-9af7-03ae340074ec",
   "metadata": {},
   "outputs": [
    {
     "data": {
      "image/png": "[encoded data removed]",
      "text/plain": [
       "<Figure size 432x288 with 1 Axes>"
      ]
     },
     "metadata": {
      "needs_background": "light"
     },
     "output_type": "display_data"
    }
   ],
   "source": [
    "sns.heatmap(cm_KNN_select,cbar=False,annot=True);"
   ]
  },
  {
   "cell_type": "code",
   "execution_count": 211,
   "id": "7200611f-1ad7-4458-9db7-80060f212df7",
   "metadata": {},
   "outputs": [
    {
     "name": "stdout",
     "output_type": "stream",
     "text": [
      "              precision    recall  f1-score   support\n",
      "\n",
      "           0       0.93      0.99      0.96      9271\n",
      "           1       0.54      0.18      0.27       866\n",
      "\n",
      "    accuracy                           0.92     10137\n",
      "   macro avg       0.73      0.58      0.61     10137\n",
      "weighted avg       0.89      0.92      0.90     10137\n",
      "\n"
     ]
    }
   ],
   "source": [
    "print(cr_KNN_select)"
   ]
  },
  {
   "cell_type": "code",
   "execution_count": 212,
   "id": "f5516194-6ec9-4740-89b1-382cd5d34b81",
   "metadata": {},
   "outputs": [
    {
     "data": {
      "image/png": "[encoded data removed]",
      "text/plain": [
       "<Figure size 432x288 with 1 Axes>"
      ]
     },
     "metadata": {
      "needs_background": "light"
     },
     "output_type": "display_data"
    }
   ],
   "source": [
    "sns.heatmap(cm_RF_select,cbar=False,annot=True);"
   ]
  },
  {
   "cell_type": "code",
   "execution_count": 213,
   "id": "79dc510a-7e06-408d-80c7-c48f5054aeb6",
   "metadata": {},
   "outputs": [
    {
     "name": "stdout",
     "output_type": "stream",
     "text": [
      "              precision    recall  f1-score   support\n",
      "\n",
      "           0       0.95      0.86      0.90      9271\n",
      "           1       0.25      0.49      0.33       866\n",
      "\n",
      "    accuracy                           0.83     10137\n",
      "   macro avg       0.60      0.68      0.62     10137\n",
      "weighted avg       0.89      0.83      0.85     10137\n",
      "\n"
     ]
    }
   ],
   "source": [
    "print(cr_RF_select)"
   ]
  },
  {
   "cell_type": "code",
   "execution_count": 214,
   "id": "a6abb1e8-fb4f-4f34-aac5-50b35835a39b",
   "metadata": {},
   "outputs": [
    {
     "data": {
      "image/png": "[encoded data removed]",
      "text/plain": [
       "<Figure size 432x288 with 1 Axes>"
      ]
     },
     "metadata": {
      "needs_background": "light"
     },
     "output_type": "display_data"
    }
   ],
   "source": [
    "sns.heatmap(cm_LR_select,cbar=False,annot=True);"
   ]
  },
  {
   "cell_type": "code",
   "execution_count": 215,
   "id": "030d20a9-99fa-43a4-a782-4cee03c7a424",
   "metadata": {},
   "outputs": [
    {
     "name": "stdout",
     "output_type": "stream",
     "text": [
      "              precision    recall  f1-score   support\n",
      "\n",
      "           0       0.95      0.75      0.84      9271\n",
      "           1       0.18      0.59      0.28       866\n",
      "\n",
      "    accuracy                           0.74     10137\n",
      "   macro avg       0.57      0.67      0.56     10137\n",
      "weighted avg       0.89      0.74      0.79     10137\n",
      "\n"
     ]
    }
   ],
   "source": [
    "print(cr_LR_select)"
   ]
  },
  {
   "cell_type": "markdown",
   "id": "36867a46-c90a-4be9-a93f-e6b774d1c0e2",
   "metadata": {},
   "source": [
    "- Improvement Hyperparameter Tuning (Feature Selection)"
   ]
  },
  {
   "cell_type": "code",
   "execution_count": 216,
   "id": "e1449621-7c04-4414-9163-b04eebe692e5",
   "metadata": {},
   "outputs": [],
   "source": [
    "param_KNN_select = {\n",
    "    'algo__n_neighbors' : np.arange(1,10,2),\n",
    "    'algo__p' : [1,2],\n",
    "    'algo__weights' : ['uniform','distance']\n",
    "}"
   ]
  },
  {
   "cell_type": "code",
   "execution_count": 217,
   "id": "2c3aa9bc-61bd-4da1-98ac-97dac5806424",
   "metadata": {},
   "outputs": [],
   "source": [
    "param_RF_select = {\n",
    "    'algo__max_depth' : np.arange(10,100),\n",
    "    'algo__min_samples_leaf' : np.arange(1,5),\n",
    "    'algo__class_weight' : [{0:i,1:(1-i)} for i in [0.1,0.2,0.3,0.4]],\n",
    "}"
   ]
  },
  {
   "cell_type": "code",
   "execution_count": 218,
   "id": "549e591c-b08a-4923-a0f5-5afe92c86486",
   "metadata": {},
   "outputs": [],
   "source": [
    "param_LR_select = {\n",
    "    'algo__C' : np.arange(1,11,2),\n",
    "    'algo__class_weight' : [{0:i,1:(1-i)} for i in [0.1,0.2,0.3,0.4]],\n",
    "    'algo__l1_ratio' : np.arange(0,1.1,0.2)\n",
    "}"
   ]
  },
  {
   "cell_type": "code",
   "execution_count": 219,
   "id": "1783142c-bd3d-4ec8-b6f9-549227e20adc",
   "metadata": {},
   "outputs": [],
   "source": [
    "GS_KNN_select = GridSearchCV(Pipe_KNN_select,param_KNN_select, cv=skf, scoring='f1',verbose=1)"
   ]
  },
  {
   "cell_type": "code",
   "execution_count": 220,
   "id": "2edebb7d-2541-4761-aa66-bacea049d43a",
   "metadata": {},
   "outputs": [
    {
     "name": "stdout",
     "output_type": "stream",
     "text": [
      "Fitting 3 folds for each of 20 candidates, totalling 60 fits\n"
     ]
    },
    {
     "name": "stderr",
     "output_type": "stream",
     "text": [
      "[Parallel(n_jobs=1)]: Using backend SequentialBackend with 1 concurrent workers.\n",
      "[Parallel(n_jobs=1)]: Done  60 out of  60 | elapsed:   18.4s finished\n"
     ]
    },
    {
     "data": {
      "text/plain": [
       "GridSearchCV(cv=StratifiedKFold(n_splits=3, random_state=42, shuffle=True),\n",
       "             estimator=Pipeline(steps=[('prep',\n",
       "                                        ColumnTransformer(transformers=[('numeric',\n",
       "                                                                         Pipeline(steps=[('imputer',\n",
       "                                                                                          SimpleImputer(strategy='most_frequent'))]),\n",
       "                                                                         ['avg_training_score',\n",
       "                                                                          'previous_year_rating']),\n",
       "                                                                        ('categoric',\n",
       "                                                                         Pipeline(steps=[('imputer',\n",
       "                                                                                          SimpleImputer(strategy='most_frequent')),\n",
       "                                                                                         ('encoder',\n",
       "                                                                                          OneHotEncoder())]),\n",
       "                                                                         ['awards_won?'])])),\n",
       "                                       ('algo', KNeighborsClassifier())]),\n",
       "             param_grid={'algo__n_neighbors': array([1, 3, 5, 7, 9]),\n",
       "                         'algo__p': [1, 2],\n",
       "                         'algo__weights': ['uniform', 'distance']},\n",
       "             scoring='f1', verbose=1)"
      ]
     },
     "execution_count": 220,
     "metadata": {},
     "output_type": "execute_result"
    }
   ],
   "source": [
    "GS_KNN_select.fit(X_train_select,y_train_select)"
   ]
  },
  {
   "cell_type": "code",
   "execution_count": 221,
   "id": "f93a0916-fd02-43f4-ae71-48b5f5021b7f",
   "metadata": {},
   "outputs": [
    {
     "data": {
      "text/plain": [
       "{'algo__n_neighbors': 5, 'algo__p': 1, 'algo__weights': 'uniform'}"
      ]
     },
     "execution_count": 221,
     "metadata": {},
     "output_type": "execute_result"
    }
   ],
   "source": [
    "GS_KNN_select.best_params_"
   ]
  },
  {
   "cell_type": "code",
   "execution_count": 222,
   "id": "170c190b-c2d1-4e39-a518-81c056d55ba3",
   "metadata": {},
   "outputs": [],
   "source": [
    "KNN_Tuned_select = GS_KNN_select.best_estimator_"
   ]
  },
  {
   "cell_type": "code",
   "execution_count": 223,
   "id": "f3989fae-3980-4c20-b395-d8a3fc346528",
   "metadata": {},
   "outputs": [],
   "source": [
    "acc_KNN_Tuned_select, rec_KNN_Tuned_select, prec_KNN_Tuned_select, f1_KNN_Tuned_select, cm_KNN_Tuned_select , cr_KNN_Tuned_select = Eva_Matrix_Class(KNN_Tuned_select,X_test_select,y_test_select)"
   ]
  },
  {
   "cell_type": "code",
   "execution_count": 224,
   "id": "6936892c-efa3-4380-bbd5-ada4a6f2cd96",
   "metadata": {},
   "outputs": [
    {
     "data": {
      "image/png": "[encoded data removed]",
      "text/plain": [
       "<Figure size 432x288 with 1 Axes>"
      ]
     },
     "metadata": {
      "needs_background": "light"
     },
     "output_type": "display_data"
    }
   ],
   "source": [
    "sns.heatmap(cm_KNN_Tuned_select,cbar=False,annot=True);"
   ]
  },
  {
   "cell_type": "code",
   "execution_count": 225,
   "id": "fa95eabe-de81-4c14-8b1e-8b9f1ebce52f",
   "metadata": {},
   "outputs": [
    {
     "name": "stdout",
     "output_type": "stream",
     "text": [
      "              precision    recall  f1-score   support\n",
      "\n",
      "           0       0.93      0.99      0.96      9271\n",
      "           1       0.54      0.18      0.26       866\n",
      "\n",
      "    accuracy                           0.92     10137\n",
      "   macro avg       0.73      0.58      0.61     10137\n",
      "weighted avg       0.89      0.92      0.90     10137\n",
      "\n"
     ]
    }
   ],
   "source": [
    "print(cr_KNN_Tuned_select)"
   ]
  },
  {
   "cell_type": "code",
   "execution_count": 227,
   "id": "22aed621-4243-41b9-89c6-0badaefd4902",
   "metadata": {},
   "outputs": [],
   "source": [
    "RS_RF_select = RandomizedSearchCV(Pipe_RF_select,param_RF_select, cv=skf, scoring='f1',verbose=1,n_iter=100)"
   ]
  },
  {
   "cell_type": "code",
   "execution_count": 229,
   "id": "2e1d5410-bcd7-488c-86ff-bb976a8e1a8c",
   "metadata": {},
   "outputs": [
    {
     "name": "stdout",
     "output_type": "stream",
     "text": [
      "Fitting 3 folds for each of 100 candidates, totalling 300 fits\n"
     ]
    },
    {
     "name": "stderr",
     "output_type": "stream",
     "text": [
      "[Parallel(n_jobs=1)]: Using backend SequentialBackend with 1 concurrent workers.\n",
      "[Parallel(n_jobs=1)]: Done 300 out of 300 | elapsed:  4.6min finished\n"
     ]
    },
    {
     "data": {
      "text/plain": [
       "RandomizedSearchCV(cv=StratifiedKFold(n_splits=3, random_state=42, shuffle=True),\n",
       "                   estimator=Pipeline(steps=[('prep',\n",
       "                                              ColumnTransformer(transformers=[('numeric',\n",
       "                                                                               Pipeline(steps=[('imputer',\n",
       "                                                                                                SimpleImputer(strategy='most_frequent'))]),\n",
       "                                                                               ['avg_training_score',\n",
       "                                                                                'previous_year_rating']),\n",
       "                                                                              ('categoric',\n",
       "                                                                               Pipeline(steps=[('imputer',\n",
       "                                                                                                SimpleImputer(strategy='most_frequent...\n",
       "                                        'algo__max_depth': array([10, 11, 12, 13, 14, 15, 16, 17, 18, 19, 20, 21, 22, 23, 24, 25, 26,\n",
       "       27, 28, 29, 30, 31, 32, 33, 34, 35, 36, 37, 38, 39, 40, 41, 42, 43,\n",
       "       44, 45, 46, 47, 48, 49, 50, 51, 52, 53, 54, 55, 56, 57, 58, 59, 60,\n",
       "       61, 62, 63, 64, 65, 66, 67, 68, 69, 70, 71, 72, 73, 74, 75, 76, 77,\n",
       "       78, 79, 80, 81, 82, 83, 84, 85, 86, 87, 88, 89, 90, 91, 92, 93, 94,\n",
       "       95, 96, 97, 98, 99]),\n",
       "                                        'algo__min_samples_leaf': array([1, 2, 3, 4])},\n",
       "                   scoring='f1', verbose=1)"
      ]
     },
     "execution_count": 229,
     "metadata": {},
     "output_type": "execute_result"
    }
   ],
   "source": [
    "RS_RF_select.fit(X_train_select,y_train_select)"
   ]
  },
  {
   "cell_type": "code",
   "execution_count": 230,
   "id": "6b112ca5-e5b2-4a09-b67f-f9f1b772662b",
   "metadata": {},
   "outputs": [
    {
     "data": {
      "text/plain": [
       "{'algo__min_samples_leaf': 4,\n",
       " 'algo__max_depth': 39,\n",
       " 'algo__class_weight': {0: 0.2, 1: 0.8}}"
      ]
     },
     "execution_count": 230,
     "metadata": {},
     "output_type": "execute_result"
    }
   ],
   "source": [
    "RS_RF_select.best_params_"
   ]
  },
  {
   "cell_type": "code",
   "execution_count": 231,
   "id": "3bd60a73-1815-4cc2-b4f7-bf95d2c39c13",
   "metadata": {},
   "outputs": [],
   "source": [
    "RF_Tuned_select = RS_RF_select.best_estimator_"
   ]
  },
  {
   "cell_type": "code",
   "execution_count": 232,
   "id": "40cf1d3c-8788-4736-8038-deade3c51c0a",
   "metadata": {},
   "outputs": [],
   "source": [
    "acc_RF_Tuned_select, rec_RF_Tuned_select, prec_RF_Tuned_select, f1_RF_Tuned_select, cm_RF_Tuned_select , cr_RF_Tuned_select = Eva_Matrix_Class(RF_Tuned_select,X_test_select,y_test_select)"
   ]
  },
  {
   "cell_type": "code",
   "execution_count": 233,
   "id": "28a1db45-d1cd-45eb-aa55-f98eb6e093ac",
   "metadata": {},
   "outputs": [
    {
     "data": {
      "image/png": "[encoded data removed]",
      "text/plain": [
       "<Figure size 432x288 with 1 Axes>"
      ]
     },
     "metadata": {
      "needs_background": "light"
     },
     "output_type": "display_data"
    }
   ],
   "source": [
    "sns.heatmap(cm_RF_Tuned_select,cbar=False,annot=True);"
   ]
  },
  {
   "cell_type": "code",
   "execution_count": 234,
   "id": "33a84e30-197a-4075-9cbc-dc56f67e97b1",
   "metadata": {},
   "outputs": [
    {
     "name": "stdout",
     "output_type": "stream",
     "text": [
      "              precision    recall  f1-score   support\n",
      "\n",
      "           0       0.94      0.96      0.95      9271\n",
      "           1       0.42      0.33      0.37       866\n",
      "\n",
      "    accuracy                           0.90     10137\n",
      "   macro avg       0.68      0.64      0.66     10137\n",
      "weighted avg       0.89      0.90      0.90     10137\n",
      "\n"
     ]
    }
   ],
   "source": [
    "print(cr_RF_Tuned_select)"
   ]
  },
  {
   "cell_type": "code",
   "execution_count": 235,
   "id": "da6bab33-dba2-4486-82b2-af92b962eacc",
   "metadata": {},
   "outputs": [],
   "source": [
    "GS_LR_select = GridSearchCV(Pipe_LR_select,param_LR_select, cv=skf, scoring='f1',verbose=1)"
   ]
  },
  {
   "cell_type": "code",
   "execution_count": 236,
   "id": "7b808441-bd43-4b91-802e-01a001f744f9",
   "metadata": {},
   "outputs": [
    {
     "name": "stdout",
     "output_type": "stream",
     "text": [
      "Fitting 3 folds for each of 120 candidates, totalling 360 fits\n"
     ]
    },
    {
     "name": "stderr",
     "output_type": "stream",
     "text": [
      "[Parallel(n_jobs=1)]: Using backend SequentialBackend with 1 concurrent workers.\n",
      "[Parallel(n_jobs=1)]: Done 360 out of 360 | elapsed:   27.3s finished\n"
     ]
    },
    {
     "data": {
      "text/plain": [
       "GridSearchCV(cv=StratifiedKFold(n_splits=3, random_state=42, shuffle=True),\n",
       "             estimator=Pipeline(steps=[('prep',\n",
       "                                        ColumnTransformer(transformers=[('numeric',\n",
       "                                                                         Pipeline(steps=[('imputer',\n",
       "                                                                                          SimpleImputer(strategy='most_frequent'))]),\n",
       "                                                                         ['avg_training_score',\n",
       "                                                                          'previous_year_rating']),\n",
       "                                                                        ('categoric',\n",
       "                                                                         Pipeline(steps=[('imputer',\n",
       "                                                                                          SimpleImputer(strategy='most_frequent')),\n",
       "                                                                                         ('encoder',\n",
       "                                                                                          OneHotEncoder())]),\n",
       "                                                                         ['awards_won?'])])),\n",
       "                                       ('algo',\n",
       "                                        LogisticRegression(class_weight={0: 0.1,\n",
       "                                                                         1: 0.9},\n",
       "                                                           solver='liblinear'))]),\n",
       "             param_grid={'algo__C': array([1, 3, 5, 7, 9]),\n",
       "                         'algo__class_weight': [{0: 0.1, 1: 0.9},\n",
       "                                                {0: 0.2, 1: 0.8},\n",
       "                                                {0: 0.3, 1: 0.7},\n",
       "                                                {0: 0.4, 1: 0.6}],\n",
       "                         'algo__l1_ratio': array([0. , 0.2, 0.4, 0.6, 0.8, 1. ])},\n",
       "             scoring='f1', verbose=1)"
      ]
     },
     "execution_count": 236,
     "metadata": {},
     "output_type": "execute_result"
    }
   ],
   "source": [
    "GS_LR_select.fit(X_train_select,y_train_select)"
   ]
  },
  {
   "cell_type": "code",
   "execution_count": 237,
   "id": "5270d1bf-d93f-4aed-83e5-33645a4ad3c2",
   "metadata": {},
   "outputs": [
    {
     "data": {
      "text/plain": [
       "{'algo__C': 5, 'algo__class_weight': {0: 0.2, 1: 0.8}, 'algo__l1_ratio': 0.0}"
      ]
     },
     "execution_count": 237,
     "metadata": {},
     "output_type": "execute_result"
    }
   ],
   "source": [
    "GS_LR_select.best_params_"
   ]
  },
  {
   "cell_type": "code",
   "execution_count": 238,
   "id": "c3a42ac9-8677-4b0b-82c8-4be192264528",
   "metadata": {},
   "outputs": [],
   "source": [
    "LR_Tuned_select = GS_LR_select.best_estimator_"
   ]
  },
  {
   "cell_type": "code",
   "execution_count": 239,
   "id": "b5aa15ca-979a-484e-bb4e-0e435e7b5482",
   "metadata": {},
   "outputs": [],
   "source": [
    "acc_LR_Tuned_select, rec_LR_Tuned_select, prec_LR_Tuned_select, f1_LR_Tuned_select, cm_LR_Tuned_select , cr_LR_Tuned_select = Eva_Matrix_Class(LR_Tuned_select,X_test_select,y_test_select)"
   ]
  },
  {
   "cell_type": "code",
   "execution_count": 240,
   "id": "fe9f2e3a-b62c-47db-9438-a762b78d351f",
   "metadata": {},
   "outputs": [
    {
     "data": {
      "image/png": "[encoded data removed]",
      "text/plain": [
       "<Figure size 432x288 with 1 Axes>"
      ]
     },
     "metadata": {
      "needs_background": "light"
     },
     "output_type": "display_data"
    }
   ],
   "source": [
    "sns.heatmap(cm_LR_Tuned_select,cbar=False,annot=True);"
   ]
  },
  {
   "cell_type": "code",
   "execution_count": 241,
   "id": "9d686fb6-2de8-4f9c-aacf-d409140516b0",
   "metadata": {},
   "outputs": [
    {
     "name": "stdout",
     "output_type": "stream",
     "text": [
      "              precision    recall  f1-score   support\n",
      "\n",
      "           0       0.94      0.95      0.94      9271\n",
      "           1       0.35      0.31      0.33       866\n",
      "\n",
      "    accuracy                           0.89     10137\n",
      "   macro avg       0.65      0.63      0.64     10137\n",
      "weighted avg       0.89      0.89      0.89     10137\n",
      "\n"
     ]
    }
   ],
   "source": [
    "print(cr_LR_Tuned_select)"
   ]
  },
  {
   "cell_type": "code",
   "execution_count": 242,
   "id": "8c875ee2-2949-49e5-a547-7c7452bba9da",
   "metadata": {},
   "outputs": [],
   "source": [
    "data_Eva_Matrix = {\n",
    "    'KNN' :[acc_KNN, rec_KNN, prec_KNN, f1_KNN],\n",
    "    'KNN_Tuned' :[acc_KNN_Tuned, rec_KNN_Tuned, prec_KNN_Tuned, f1_KNN_Tuned],\n",
    "    'KNN_select' :[acc_KNN_select, rec_KNN_select, prec_KNN_select, f1_KNN_select],\n",
    "    'KNN_Tuned_select' :[acc_KNN_Tuned_select, rec_KNN_Tuned_select, prec_KNN_Tuned_select, f1_KNN_Tuned_select],\n",
    "    'RF' :[acc_RF, rec_RF, prec_RF, f1_RF],\n",
    "    'RF_Tuned' :[acc_RF_Tuned, rec_RF_Tuned, prec_RF_Tuned, f1_RF_Tuned],\n",
    "    'RF_select' :[acc_RF_select, rec_RF_select, prec_RF_select, f1_RF_select],\n",
    "    'RF_Tuned_select' :[acc_RF_Tuned_select, rec_RF_Tuned_select, prec_RF_Tuned_select, f1_RF_Tuned_select],\n",
    "    'LR' :[acc_LR, rec_LR, prec_LR, f1_LR],\n",
    "    'LR_Tuned' :[acc_LR_Tuned, rec_LR_Tuned, prec_LR_Tuned, f1_LR_Tuned],\n",
    "    'LR_select' :[acc_LR_select, rec_LR_select, prec_LR_select, f1_LR_select],\n",
    "    'LR_Tuned_select' :[acc_LR_Tuned_select, rec_LR_Tuned_select, prec_LR_Tuned_select, f1_LR_Tuned_select],\n",
    "    \n",
    "}\n"
   ]
  },
  {
   "cell_type": "code",
   "execution_count": 243,
   "id": "264b69c0-60b8-4b81-b745-b4d5956cecdf",
   "metadata": {},
   "outputs": [
    {
     "data": {
      "text/html": [
       "<div>\n",
       "<style scoped>\n",
       "    .dataframe tbody tr th:only-of-type {\n",
       "        vertical-align: middle;\n",
       "    }\n",
       "\n",
       "    .dataframe tbody tr th {\n",
       "        vertical-align: top;\n",
       "    }\n",
       "\n",
       "    .dataframe thead th {\n",
       "        text-align: right;\n",
       "    }\n",
       "</style>\n",
       "<table border=\"1\" class=\"dataframe\">\n",
       "  <thead>\n",
       "    <tr style=\"text-align: right;\">\n",
       "      <th></th>\n",
       "      <th>KNN</th>\n",
       "      <th>KNN_Tuned</th>\n",
       "      <th>KNN_select</th>\n",
       "      <th>KNN_Tuned_select</th>\n",
       "      <th>RF</th>\n",
       "      <th>RF_Tuned</th>\n",
       "      <th>RF_select</th>\n",
       "      <th>RF_Tuned_select</th>\n",
       "      <th>LR</th>\n",
       "      <th>LR_Tuned</th>\n",
       "      <th>LR_select</th>\n",
       "      <th>LR_Tuned_select</th>\n",
       "    </tr>\n",
       "  </thead>\n",
       "  <tbody>\n",
       "    <tr>\n",
       "      <th>Accuracy</th>\n",
       "      <td>0.922265</td>\n",
       "      <td>0.923251</td>\n",
       "      <td>0.916839</td>\n",
       "      <td>0.916741</td>\n",
       "      <td>0.934695</td>\n",
       "      <td>0.925422</td>\n",
       "      <td>0.828352</td>\n",
       "      <td>0.903029</td>\n",
       "      <td>0.795798</td>\n",
       "      <td>0.936174</td>\n",
       "      <td>0.741048</td>\n",
       "      <td>0.893065</td>\n",
       "    </tr>\n",
       "    <tr>\n",
       "      <th>Recall</th>\n",
       "      <td>0.137413</td>\n",
       "      <td>0.120092</td>\n",
       "      <td>0.176674</td>\n",
       "      <td>0.175520</td>\n",
       "      <td>0.287529</td>\n",
       "      <td>0.407621</td>\n",
       "      <td>0.491917</td>\n",
       "      <td>0.330254</td>\n",
       "      <td>0.630485</td>\n",
       "      <td>0.381062</td>\n",
       "      <td>0.592379</td>\n",
       "      <td>0.306005</td>\n",
       "    </tr>\n",
       "    <tr>\n",
       "      <th>Precision</th>\n",
       "      <td>0.743750</td>\n",
       "      <td>0.866667</td>\n",
       "      <td>0.540636</td>\n",
       "      <td>0.539007</td>\n",
       "      <td>0.846939</td>\n",
       "      <td>0.592282</td>\n",
       "      <td>0.246813</td>\n",
       "      <td>0.415094</td>\n",
       "      <td>0.237805</td>\n",
       "      <td>0.748299</td>\n",
       "      <td>0.184201</td>\n",
       "      <td>0.354278</td>\n",
       "    </tr>\n",
       "    <tr>\n",
       "      <th>F1</th>\n",
       "      <td>0.231969</td>\n",
       "      <td>0.210953</td>\n",
       "      <td>0.266319</td>\n",
       "      <td>0.264808</td>\n",
       "      <td>0.429310</td>\n",
       "      <td>0.482900</td>\n",
       "      <td>0.328704</td>\n",
       "      <td>0.367846</td>\n",
       "      <td>0.345351</td>\n",
       "      <td>0.504973</td>\n",
       "      <td>0.281019</td>\n",
       "      <td>0.328377</td>\n",
       "    </tr>\n",
       "  </tbody>\n",
       "</table>\n",
       "</div>"
      ],
      "text/plain": [
       "                KNN  KNN_Tuned  KNN_select  KNN_Tuned_select        RF  \\\n",
       "Accuracy   0.922265   0.923251    0.916839          0.916741  0.934695   \n",
       "Recall     0.137413   0.120092    0.176674          0.175520  0.287529   \n",
       "Precision  0.743750   0.866667    0.540636          0.539007  0.846939   \n",
       "F1         0.231969   0.210953    0.266319          0.264808  0.429310   \n",
       "\n",
       "           RF_Tuned  RF_select  RF_Tuned_select        LR  LR_Tuned  \\\n",
       "Accuracy   0.925422   0.828352         0.903029  0.795798  0.936174   \n",
       "Recall     0.407621   0.491917         0.330254  0.630485  0.381062   \n",
       "Precision  0.592282   0.246813         0.415094  0.237805  0.748299   \n",
       "F1         0.482900   0.328704         0.367846  0.345351  0.504973   \n",
       "\n",
       "           LR_select  LR_Tuned_select  \n",
       "Accuracy    0.741048         0.893065  \n",
       "Recall      0.592379         0.306005  \n",
       "Precision   0.184201         0.354278  \n",
       "F1          0.281019         0.328377  "
      ]
     },
     "execution_count": 243,
     "metadata": {},
     "output_type": "execute_result"
    }
   ],
   "source": [
    "pd.DataFrame(data_Eva_Matrix,index=['Accuracy','Recall','Precision','F1'])"
   ]
  },
  {
   "cell_type": "markdown",
   "id": "18da51d0-39e9-4e9d-a3ca-d56963ad7526",
   "metadata": {},
   "source": [
    "- Using Best Model to Predict Probability (Logistic Regression Tuned)"
   ]
  },
  {
   "cell_type": "code",
   "execution_count": 244,
   "id": "0e3e9b74-0607-4aba-b3b9-66ed9105e853",
   "metadata": {},
   "outputs": [
    {
     "data": {
      "text/html": [
       "<div>\n",
       "<style scoped>\n",
       "    .dataframe tbody tr th:only-of-type {\n",
       "        vertical-align: middle;\n",
       "    }\n",
       "\n",
       "    .dataframe tbody tr th {\n",
       "        vertical-align: top;\n",
       "    }\n",
       "\n",
       "    .dataframe thead th {\n",
       "        text-align: right;\n",
       "    }\n",
       "</style>\n",
       "<table border=\"1\" class=\"dataframe\">\n",
       "  <thead>\n",
       "    <tr style=\"text-align: right;\">\n",
       "      <th></th>\n",
       "      <th>department</th>\n",
       "      <th>region</th>\n",
       "      <th>education_recat</th>\n",
       "      <th>gender</th>\n",
       "      <th>recruitment_channel</th>\n",
       "      <th>no_of_trainings</th>\n",
       "      <th>age</th>\n",
       "      <th>previous_year_rating</th>\n",
       "      <th>length_of_service</th>\n",
       "      <th>awards_won?</th>\n",
       "      <th>avg_training_score</th>\n",
       "    </tr>\n",
       "  </thead>\n",
       "  <tbody>\n",
       "    <tr>\n",
       "      <th>44118</th>\n",
       "      <td>Analytics</td>\n",
       "      <td>region_15</td>\n",
       "      <td>1</td>\n",
       "      <td>m</td>\n",
       "      <td>other</td>\n",
       "      <td>1</td>\n",
       "      <td>26</td>\n",
       "      <td>3.0</td>\n",
       "      <td>3</td>\n",
       "      <td>0</td>\n",
       "      <td>82</td>\n",
       "    </tr>\n",
       "    <tr>\n",
       "      <th>21322</th>\n",
       "      <td>Analytics</td>\n",
       "      <td>region_22</td>\n",
       "      <td>1</td>\n",
       "      <td>f</td>\n",
       "      <td>sourcing</td>\n",
       "      <td>1</td>\n",
       "      <td>27</td>\n",
       "      <td>4.0</td>\n",
       "      <td>4</td>\n",
       "      <td>0</td>\n",
       "      <td>84</td>\n",
       "    </tr>\n",
       "    <tr>\n",
       "      <th>30620</th>\n",
       "      <td>Sales &amp; Marketing</td>\n",
       "      <td>region_30</td>\n",
       "      <td>1</td>\n",
       "      <td>f</td>\n",
       "      <td>other</td>\n",
       "      <td>1</td>\n",
       "      <td>31</td>\n",
       "      <td>3.0</td>\n",
       "      <td>3</td>\n",
       "      <td>0</td>\n",
       "      <td>53</td>\n",
       "    </tr>\n",
       "    <tr>\n",
       "      <th>48124</th>\n",
       "      <td>Sales &amp; Marketing</td>\n",
       "      <td>region_26</td>\n",
       "      <td>1</td>\n",
       "      <td>m</td>\n",
       "      <td>sourcing</td>\n",
       "      <td>1</td>\n",
       "      <td>24</td>\n",
       "      <td>1.0</td>\n",
       "      <td>2</td>\n",
       "      <td>0</td>\n",
       "      <td>48</td>\n",
       "    </tr>\n",
       "    <tr>\n",
       "      <th>5728</th>\n",
       "      <td>Technology</td>\n",
       "      <td>region_23</td>\n",
       "      <td>1</td>\n",
       "      <td>m</td>\n",
       "      <td>sourcing</td>\n",
       "      <td>2</td>\n",
       "      <td>32</td>\n",
       "      <td>3.0</td>\n",
       "      <td>5</td>\n",
       "      <td>0</td>\n",
       "      <td>84</td>\n",
       "    </tr>\n",
       "    <tr>\n",
       "      <th>...</th>\n",
       "      <td>...</td>\n",
       "      <td>...</td>\n",
       "      <td>...</td>\n",
       "      <td>...</td>\n",
       "      <td>...</td>\n",
       "      <td>...</td>\n",
       "      <td>...</td>\n",
       "      <td>...</td>\n",
       "      <td>...</td>\n",
       "      <td>...</td>\n",
       "      <td>...</td>\n",
       "    </tr>\n",
       "    <tr>\n",
       "      <th>52496</th>\n",
       "      <td>Analytics</td>\n",
       "      <td>region_22</td>\n",
       "      <td>0</td>\n",
       "      <td>m</td>\n",
       "      <td>sourcing</td>\n",
       "      <td>2</td>\n",
       "      <td>28</td>\n",
       "      <td>4.0</td>\n",
       "      <td>4</td>\n",
       "      <td>0</td>\n",
       "      <td>89</td>\n",
       "    </tr>\n",
       "    <tr>\n",
       "      <th>37852</th>\n",
       "      <td>Sales &amp; Marketing</td>\n",
       "      <td>region_7</td>\n",
       "      <td>1</td>\n",
       "      <td>m</td>\n",
       "      <td>other</td>\n",
       "      <td>1</td>\n",
       "      <td>27</td>\n",
       "      <td>4.0</td>\n",
       "      <td>2</td>\n",
       "      <td>0</td>\n",
       "      <td>51</td>\n",
       "    </tr>\n",
       "    <tr>\n",
       "      <th>9248</th>\n",
       "      <td>Technology</td>\n",
       "      <td>region_2</td>\n",
       "      <td>2</td>\n",
       "      <td>f</td>\n",
       "      <td>sourcing</td>\n",
       "      <td>2</td>\n",
       "      <td>42</td>\n",
       "      <td>5.0</td>\n",
       "      <td>13</td>\n",
       "      <td>0</td>\n",
       "      <td>82</td>\n",
       "    </tr>\n",
       "    <tr>\n",
       "      <th>27306</th>\n",
       "      <td>Operations</td>\n",
       "      <td>region_22</td>\n",
       "      <td>2</td>\n",
       "      <td>f</td>\n",
       "      <td>sourcing</td>\n",
       "      <td>1</td>\n",
       "      <td>50</td>\n",
       "      <td>4.0</td>\n",
       "      <td>18</td>\n",
       "      <td>0</td>\n",
       "      <td>58</td>\n",
       "    </tr>\n",
       "    <tr>\n",
       "      <th>43645</th>\n",
       "      <td>Procurement</td>\n",
       "      <td>region_2</td>\n",
       "      <td>1</td>\n",
       "      <td>f</td>\n",
       "      <td>sourcing</td>\n",
       "      <td>1</td>\n",
       "      <td>26</td>\n",
       "      <td>2.0</td>\n",
       "      <td>3</td>\n",
       "      <td>0</td>\n",
       "      <td>72</td>\n",
       "    </tr>\n",
       "  </tbody>\n",
       "</table>\n",
       "<p>10137 rows × 11 columns</p>\n",
       "</div>"
      ],
      "text/plain": [
       "              department     region  education_recat gender  \\\n",
       "44118          Analytics  region_15                1      m   \n",
       "21322          Analytics  region_22                1      f   \n",
       "30620  Sales & Marketing  region_30                1      f   \n",
       "48124  Sales & Marketing  region_26                1      m   \n",
       "5728          Technology  region_23                1      m   \n",
       "...                  ...        ...              ...    ...   \n",
       "52496          Analytics  region_22                0      m   \n",
       "37852  Sales & Marketing   region_7                1      m   \n",
       "9248          Technology   region_2                2      f   \n",
       "27306         Operations  region_22                2      f   \n",
       "43645        Procurement   region_2                1      f   \n",
       "\n",
       "      recruitment_channel  no_of_trainings  age  previous_year_rating  \\\n",
       "44118               other                1   26                   3.0   \n",
       "21322            sourcing                1   27                   4.0   \n",
       "30620               other                1   31                   3.0   \n",
       "48124            sourcing                1   24                   1.0   \n",
       "5728             sourcing                2   32                   3.0   \n",
       "...                   ...              ...  ...                   ...   \n",
       "52496            sourcing                2   28                   4.0   \n",
       "37852               other                1   27                   4.0   \n",
       "9248             sourcing                2   42                   5.0   \n",
       "27306            sourcing                1   50                   4.0   \n",
       "43645            sourcing                1   26                   2.0   \n",
       "\n",
       "       length_of_service awards_won?  avg_training_score  \n",
       "44118                  3           0                  82  \n",
       "21322                  4           0                  84  \n",
       "30620                  3           0                  53  \n",
       "48124                  2           0                  48  \n",
       "5728                   5           0                  84  \n",
       "...                  ...         ...                 ...  \n",
       "52496                  4           0                  89  \n",
       "37852                  2           0                  51  \n",
       "9248                  13           0                  82  \n",
       "27306                 18           0                  58  \n",
       "43645                  3           0                  72  \n",
       "\n",
       "[10137 rows x 11 columns]"
      ]
     },
     "execution_count": 244,
     "metadata": {},
     "output_type": "execute_result"
    }
   ],
   "source": [
    "X_test"
   ]
  },
  {
   "cell_type": "code",
   "execution_count": 245,
   "id": "74fadcf1-51c9-4b18-b595-b1302dfa823a",
   "metadata": {},
   "outputs": [],
   "source": [
    "proba = LR_Tuned.predict_proba(X_test)"
   ]
  },
  {
   "cell_type": "code",
   "execution_count": 246,
   "id": "3aab641f-85ae-4628-87d9-f2e71cd6e82b",
   "metadata": {},
   "outputs": [],
   "source": [
    "pred = LR_Tuned.predict(X_test)"
   ]
  },
  {
   "cell_type": "code",
   "execution_count": 247,
   "id": "8fdd9984-da7d-40ab-8f3c-5f117531796f",
   "metadata": {},
   "outputs": [],
   "source": [
    "df_proba = X_test"
   ]
  },
  {
   "cell_type": "code",
   "execution_count": 248,
   "id": "b35a83cc-2f7d-4ea8-add2-e78c9793cb78",
   "metadata": {},
   "outputs": [],
   "source": [
    "df_proba['is_promoted'] = y_test"
   ]
  },
  {
   "cell_type": "code",
   "execution_count": 249,
   "id": "ba924035-38fc-4f30-be51-5b15a932c11d",
   "metadata": {},
   "outputs": [],
   "source": [
    "df_proba['prediction'] = pred"
   ]
  },
  {
   "cell_type": "code",
   "execution_count": 250,
   "id": "5001854a-84f3-48c9-bea4-88d912fa64b7",
   "metadata": {},
   "outputs": [],
   "source": [
    "df_proba[['Probability 0','Probability 1']] = proba"
   ]
  },
  {
   "cell_type": "code",
   "execution_count": 252,
   "id": "2fb6b772-ec7e-41da-8472-9f3ee133b963",
   "metadata": {},
   "outputs": [
    {
     "data": {
      "text/html": [
       "<div>\n",
       "<style scoped>\n",
       "    .dataframe tbody tr th:only-of-type {\n",
       "        vertical-align: middle;\n",
       "    }\n",
       "\n",
       "    .dataframe tbody tr th {\n",
       "        vertical-align: top;\n",
       "    }\n",
       "\n",
       "    .dataframe thead th {\n",
       "        text-align: right;\n",
       "    }\n",
       "</style>\n",
       "<table border=\"1\" class=\"dataframe\">\n",
       "  <thead>\n",
       "    <tr style=\"text-align: right;\">\n",
       "      <th></th>\n",
       "      <th>department</th>\n",
       "      <th>region</th>\n",
       "      <th>education_recat</th>\n",
       "      <th>gender</th>\n",
       "      <th>recruitment_channel</th>\n",
       "      <th>no_of_trainings</th>\n",
       "      <th>age</th>\n",
       "      <th>previous_year_rating</th>\n",
       "      <th>length_of_service</th>\n",
       "      <th>awards_won?</th>\n",
       "      <th>avg_training_score</th>\n",
       "      <th>is_promoted</th>\n",
       "      <th>prediction</th>\n",
       "      <th>Probability 0</th>\n",
       "      <th>Probability 1</th>\n",
       "    </tr>\n",
       "  </thead>\n",
       "  <tbody>\n",
       "    <tr>\n",
       "      <th>44118</th>\n",
       "      <td>Analytics</td>\n",
       "      <td>region_15</td>\n",
       "      <td>1</td>\n",
       "      <td>m</td>\n",
       "      <td>other</td>\n",
       "      <td>1</td>\n",
       "      <td>26</td>\n",
       "      <td>3.0</td>\n",
       "      <td>3</td>\n",
       "      <td>0</td>\n",
       "      <td>82</td>\n",
       "      <td>0</td>\n",
       "      <td>0</td>\n",
       "      <td>0.923196</td>\n",
       "      <td>0.076804</td>\n",
       "    </tr>\n",
       "    <tr>\n",
       "      <th>21322</th>\n",
       "      <td>Analytics</td>\n",
       "      <td>region_22</td>\n",
       "      <td>1</td>\n",
       "      <td>f</td>\n",
       "      <td>sourcing</td>\n",
       "      <td>1</td>\n",
       "      <td>27</td>\n",
       "      <td>4.0</td>\n",
       "      <td>4</td>\n",
       "      <td>0</td>\n",
       "      <td>84</td>\n",
       "      <td>0</td>\n",
       "      <td>0</td>\n",
       "      <td>0.759023</td>\n",
       "      <td>0.240977</td>\n",
       "    </tr>\n",
       "    <tr>\n",
       "      <th>30620</th>\n",
       "      <td>Sales &amp; Marketing</td>\n",
       "      <td>region_30</td>\n",
       "      <td>1</td>\n",
       "      <td>f</td>\n",
       "      <td>other</td>\n",
       "      <td>1</td>\n",
       "      <td>31</td>\n",
       "      <td>3.0</td>\n",
       "      <td>3</td>\n",
       "      <td>0</td>\n",
       "      <td>53</td>\n",
       "      <td>0</td>\n",
       "      <td>0</td>\n",
       "      <td>0.860398</td>\n",
       "      <td>0.139602</td>\n",
       "    </tr>\n",
       "    <tr>\n",
       "      <th>48124</th>\n",
       "      <td>Sales &amp; Marketing</td>\n",
       "      <td>region_26</td>\n",
       "      <td>1</td>\n",
       "      <td>m</td>\n",
       "      <td>sourcing</td>\n",
       "      <td>1</td>\n",
       "      <td>24</td>\n",
       "      <td>1.0</td>\n",
       "      <td>2</td>\n",
       "      <td>0</td>\n",
       "      <td>48</td>\n",
       "      <td>0</td>\n",
       "      <td>0</td>\n",
       "      <td>0.979799</td>\n",
       "      <td>0.020201</td>\n",
       "    </tr>\n",
       "    <tr>\n",
       "      <th>5728</th>\n",
       "      <td>Technology</td>\n",
       "      <td>region_23</td>\n",
       "      <td>1</td>\n",
       "      <td>m</td>\n",
       "      <td>sourcing</td>\n",
       "      <td>2</td>\n",
       "      <td>32</td>\n",
       "      <td>3.0</td>\n",
       "      <td>5</td>\n",
       "      <td>0</td>\n",
       "      <td>84</td>\n",
       "      <td>0</td>\n",
       "      <td>0</td>\n",
       "      <td>0.697957</td>\n",
       "      <td>0.302043</td>\n",
       "    </tr>\n",
       "    <tr>\n",
       "      <th>...</th>\n",
       "      <td>...</td>\n",
       "      <td>...</td>\n",
       "      <td>...</td>\n",
       "      <td>...</td>\n",
       "      <td>...</td>\n",
       "      <td>...</td>\n",
       "      <td>...</td>\n",
       "      <td>...</td>\n",
       "      <td>...</td>\n",
       "      <td>...</td>\n",
       "      <td>...</td>\n",
       "      <td>...</td>\n",
       "      <td>...</td>\n",
       "      <td>...</td>\n",
       "      <td>...</td>\n",
       "    </tr>\n",
       "    <tr>\n",
       "      <th>52496</th>\n",
       "      <td>Analytics</td>\n",
       "      <td>region_22</td>\n",
       "      <td>0</td>\n",
       "      <td>m</td>\n",
       "      <td>sourcing</td>\n",
       "      <td>2</td>\n",
       "      <td>28</td>\n",
       "      <td>4.0</td>\n",
       "      <td>4</td>\n",
       "      <td>0</td>\n",
       "      <td>89</td>\n",
       "      <td>0</td>\n",
       "      <td>0</td>\n",
       "      <td>0.627112</td>\n",
       "      <td>0.372888</td>\n",
       "    </tr>\n",
       "    <tr>\n",
       "      <th>37852</th>\n",
       "      <td>Sales &amp; Marketing</td>\n",
       "      <td>region_7</td>\n",
       "      <td>1</td>\n",
       "      <td>m</td>\n",
       "      <td>other</td>\n",
       "      <td>1</td>\n",
       "      <td>27</td>\n",
       "      <td>4.0</td>\n",
       "      <td>2</td>\n",
       "      <td>0</td>\n",
       "      <td>51</td>\n",
       "      <td>0</td>\n",
       "      <td>0</td>\n",
       "      <td>0.782547</td>\n",
       "      <td>0.217453</td>\n",
       "    </tr>\n",
       "    <tr>\n",
       "      <th>9248</th>\n",
       "      <td>Technology</td>\n",
       "      <td>region_2</td>\n",
       "      <td>2</td>\n",
       "      <td>f</td>\n",
       "      <td>sourcing</td>\n",
       "      <td>2</td>\n",
       "      <td>42</td>\n",
       "      <td>5.0</td>\n",
       "      <td>13</td>\n",
       "      <td>0</td>\n",
       "      <td>82</td>\n",
       "      <td>0</td>\n",
       "      <td>0</td>\n",
       "      <td>0.606335</td>\n",
       "      <td>0.393665</td>\n",
       "    </tr>\n",
       "    <tr>\n",
       "      <th>27306</th>\n",
       "      <td>Operations</td>\n",
       "      <td>region_22</td>\n",
       "      <td>2</td>\n",
       "      <td>f</td>\n",
       "      <td>sourcing</td>\n",
       "      <td>1</td>\n",
       "      <td>50</td>\n",
       "      <td>4.0</td>\n",
       "      <td>18</td>\n",
       "      <td>0</td>\n",
       "      <td>58</td>\n",
       "      <td>0</td>\n",
       "      <td>0</td>\n",
       "      <td>0.882076</td>\n",
       "      <td>0.117924</td>\n",
       "    </tr>\n",
       "    <tr>\n",
       "      <th>43645</th>\n",
       "      <td>Procurement</td>\n",
       "      <td>region_2</td>\n",
       "      <td>1</td>\n",
       "      <td>f</td>\n",
       "      <td>sourcing</td>\n",
       "      <td>1</td>\n",
       "      <td>26</td>\n",
       "      <td>2.0</td>\n",
       "      <td>3</td>\n",
       "      <td>0</td>\n",
       "      <td>72</td>\n",
       "      <td>0</td>\n",
       "      <td>0</td>\n",
       "      <td>0.871643</td>\n",
       "      <td>0.128357</td>\n",
       "    </tr>\n",
       "  </tbody>\n",
       "</table>\n",
       "<p>10137 rows × 15 columns</p>\n",
       "</div>"
      ],
      "text/plain": [
       "              department     region  education_recat gender  \\\n",
       "44118          Analytics  region_15                1      m   \n",
       "21322          Analytics  region_22                1      f   \n",
       "30620  Sales & Marketing  region_30                1      f   \n",
       "48124  Sales & Marketing  region_26                1      m   \n",
       "5728          Technology  region_23                1      m   \n",
       "...                  ...        ...              ...    ...   \n",
       "52496          Analytics  region_22                0      m   \n",
       "37852  Sales & Marketing   region_7                1      m   \n",
       "9248          Technology   region_2                2      f   \n",
       "27306         Operations  region_22                2      f   \n",
       "43645        Procurement   region_2                1      f   \n",
       "\n",
       "      recruitment_channel  no_of_trainings  age  previous_year_rating  \\\n",
       "44118               other                1   26                   3.0   \n",
       "21322            sourcing                1   27                   4.0   \n",
       "30620               other                1   31                   3.0   \n",
       "48124            sourcing                1   24                   1.0   \n",
       "5728             sourcing                2   32                   3.0   \n",
       "...                   ...              ...  ...                   ...   \n",
       "52496            sourcing                2   28                   4.0   \n",
       "37852               other                1   27                   4.0   \n",
       "9248             sourcing                2   42                   5.0   \n",
       "27306            sourcing                1   50                   4.0   \n",
       "43645            sourcing                1   26                   2.0   \n",
       "\n",
       "       length_of_service awards_won?  avg_training_score  is_promoted  \\\n",
       "44118                  3           0                  82            0   \n",
       "21322                  4           0                  84            0   \n",
       "30620                  3           0                  53            0   \n",
       "48124                  2           0                  48            0   \n",
       "5728                   5           0                  84            0   \n",
       "...                  ...         ...                 ...          ...   \n",
       "52496                  4           0                  89            0   \n",
       "37852                  2           0                  51            0   \n",
       "9248                  13           0                  82            0   \n",
       "27306                 18           0                  58            0   \n",
       "43645                  3           0                  72            0   \n",
       "\n",
       "       prediction  Probability 0  Probability 1  \n",
       "44118           0       0.923196       0.076804  \n",
       "21322           0       0.759023       0.240977  \n",
       "30620           0       0.860398       0.139602  \n",
       "48124           0       0.979799       0.020201  \n",
       "5728            0       0.697957       0.302043  \n",
       "...           ...            ...            ...  \n",
       "52496           0       0.627112       0.372888  \n",
       "37852           0       0.782547       0.217453  \n",
       "9248            0       0.606335       0.393665  \n",
       "27306           0       0.882076       0.117924  \n",
       "43645           0       0.871643       0.128357  \n",
       "\n",
       "[10137 rows x 15 columns]"
      ]
     },
     "execution_count": 252,
     "metadata": {},
     "output_type": "execute_result"
    }
   ],
   "source": [
    "df_proba"
   ]
  },
  {
   "cell_type": "code",
   "execution_count": 253,
   "id": "d148f624-aee9-48c2-b613-67b45747dc69",
   "metadata": {},
   "outputs": [
    {
     "data": {
      "text/html": [
       "<div>\n",
       "<style scoped>\n",
       "    .dataframe tbody tr th:only-of-type {\n",
       "        vertical-align: middle;\n",
       "    }\n",
       "\n",
       "    .dataframe tbody tr th {\n",
       "        vertical-align: top;\n",
       "    }\n",
       "\n",
       "    .dataframe thead th {\n",
       "        text-align: right;\n",
       "    }\n",
       "</style>\n",
       "<table border=\"1\" class=\"dataframe\">\n",
       "  <thead>\n",
       "    <tr style=\"text-align: right;\">\n",
       "      <th></th>\n",
       "      <th>department</th>\n",
       "      <th>region</th>\n",
       "      <th>education_recat</th>\n",
       "      <th>gender</th>\n",
       "      <th>recruitment_channel</th>\n",
       "      <th>no_of_trainings</th>\n",
       "      <th>age</th>\n",
       "      <th>previous_year_rating</th>\n",
       "      <th>length_of_service</th>\n",
       "      <th>awards_won?</th>\n",
       "      <th>avg_training_score</th>\n",
       "      <th>is_promoted</th>\n",
       "      <th>prediction</th>\n",
       "      <th>Probability 0</th>\n",
       "      <th>Probability 1</th>\n",
       "    </tr>\n",
       "  </thead>\n",
       "  <tbody>\n",
       "    <tr>\n",
       "      <th>49529</th>\n",
       "      <td>Sales &amp; Marketing</td>\n",
       "      <td>region_3</td>\n",
       "      <td>2</td>\n",
       "      <td>m</td>\n",
       "      <td>other</td>\n",
       "      <td>1</td>\n",
       "      <td>33</td>\n",
       "      <td>5.0</td>\n",
       "      <td>2</td>\n",
       "      <td>0</td>\n",
       "      <td>92</td>\n",
       "      <td>1</td>\n",
       "      <td>1</td>\n",
       "      <td>0.000273</td>\n",
       "      <td>0.999727</td>\n",
       "    </tr>\n",
       "    <tr>\n",
       "      <th>28171</th>\n",
       "      <td>Operations</td>\n",
       "      <td>region_7</td>\n",
       "      <td>1</td>\n",
       "      <td>f</td>\n",
       "      <td>sourcing</td>\n",
       "      <td>1</td>\n",
       "      <td>43</td>\n",
       "      <td>3.0</td>\n",
       "      <td>13</td>\n",
       "      <td>0</td>\n",
       "      <td>71</td>\n",
       "      <td>1</td>\n",
       "      <td>1</td>\n",
       "      <td>0.449788</td>\n",
       "      <td>0.550212</td>\n",
       "    </tr>\n",
       "    <tr>\n",
       "      <th>17319</th>\n",
       "      <td>Technology</td>\n",
       "      <td>region_2</td>\n",
       "      <td>1</td>\n",
       "      <td>f</td>\n",
       "      <td>referred</td>\n",
       "      <td>2</td>\n",
       "      <td>37</td>\n",
       "      <td>5.0</td>\n",
       "      <td>4</td>\n",
       "      <td>1</td>\n",
       "      <td>83</td>\n",
       "      <td>1</td>\n",
       "      <td>1</td>\n",
       "      <td>0.184602</td>\n",
       "      <td>0.815398</td>\n",
       "    </tr>\n",
       "    <tr>\n",
       "      <th>37792</th>\n",
       "      <td>Finance</td>\n",
       "      <td>region_26</td>\n",
       "      <td>1</td>\n",
       "      <td>m</td>\n",
       "      <td>sourcing</td>\n",
       "      <td>1</td>\n",
       "      <td>31</td>\n",
       "      <td>5.0</td>\n",
       "      <td>5</td>\n",
       "      <td>1</td>\n",
       "      <td>67</td>\n",
       "      <td>1</td>\n",
       "      <td>1</td>\n",
       "      <td>0.165942</td>\n",
       "      <td>0.834058</td>\n",
       "    </tr>\n",
       "    <tr>\n",
       "      <th>14637</th>\n",
       "      <td>Sales &amp; Marketing</td>\n",
       "      <td>region_4</td>\n",
       "      <td>2</td>\n",
       "      <td>m</td>\n",
       "      <td>other</td>\n",
       "      <td>1</td>\n",
       "      <td>43</td>\n",
       "      <td>4.0</td>\n",
       "      <td>4</td>\n",
       "      <td>1</td>\n",
       "      <td>54</td>\n",
       "      <td>0</td>\n",
       "      <td>1</td>\n",
       "      <td>0.210088</td>\n",
       "      <td>0.789912</td>\n",
       "    </tr>\n",
       "    <tr>\n",
       "      <th>...</th>\n",
       "      <td>...</td>\n",
       "      <td>...</td>\n",
       "      <td>...</td>\n",
       "      <td>...</td>\n",
       "      <td>...</td>\n",
       "      <td>...</td>\n",
       "      <td>...</td>\n",
       "      <td>...</td>\n",
       "      <td>...</td>\n",
       "      <td>...</td>\n",
       "      <td>...</td>\n",
       "      <td>...</td>\n",
       "      <td>...</td>\n",
       "      <td>...</td>\n",
       "      <td>...</td>\n",
       "    </tr>\n",
       "    <tr>\n",
       "      <th>5614</th>\n",
       "      <td>HR</td>\n",
       "      <td>region_13</td>\n",
       "      <td>1</td>\n",
       "      <td>f</td>\n",
       "      <td>other</td>\n",
       "      <td>1</td>\n",
       "      <td>31</td>\n",
       "      <td>5.0</td>\n",
       "      <td>2</td>\n",
       "      <td>1</td>\n",
       "      <td>54</td>\n",
       "      <td>0</td>\n",
       "      <td>1</td>\n",
       "      <td>0.344846</td>\n",
       "      <td>0.655154</td>\n",
       "    </tr>\n",
       "    <tr>\n",
       "      <th>23749</th>\n",
       "      <td>Technology</td>\n",
       "      <td>region_22</td>\n",
       "      <td>2</td>\n",
       "      <td>m</td>\n",
       "      <td>other</td>\n",
       "      <td>2</td>\n",
       "      <td>43</td>\n",
       "      <td>4.0</td>\n",
       "      <td>11</td>\n",
       "      <td>0</td>\n",
       "      <td>89</td>\n",
       "      <td>1</td>\n",
       "      <td>1</td>\n",
       "      <td>0.302725</td>\n",
       "      <td>0.697275</td>\n",
       "    </tr>\n",
       "    <tr>\n",
       "      <th>10947</th>\n",
       "      <td>Technology</td>\n",
       "      <td>region_2</td>\n",
       "      <td>1</td>\n",
       "      <td>m</td>\n",
       "      <td>other</td>\n",
       "      <td>1</td>\n",
       "      <td>27</td>\n",
       "      <td>5.0</td>\n",
       "      <td>3</td>\n",
       "      <td>0</td>\n",
       "      <td>83</td>\n",
       "      <td>1</td>\n",
       "      <td>1</td>\n",
       "      <td>0.486963</td>\n",
       "      <td>0.513037</td>\n",
       "    </tr>\n",
       "    <tr>\n",
       "      <th>27529</th>\n",
       "      <td>Operations</td>\n",
       "      <td>region_2</td>\n",
       "      <td>2</td>\n",
       "      <td>m</td>\n",
       "      <td>other</td>\n",
       "      <td>1</td>\n",
       "      <td>39</td>\n",
       "      <td>3.0</td>\n",
       "      <td>5</td>\n",
       "      <td>0</td>\n",
       "      <td>78</td>\n",
       "      <td>1</td>\n",
       "      <td>1</td>\n",
       "      <td>0.142826</td>\n",
       "      <td>0.857174</td>\n",
       "    </tr>\n",
       "    <tr>\n",
       "      <th>13280</th>\n",
       "      <td>Operations</td>\n",
       "      <td>region_2</td>\n",
       "      <td>1</td>\n",
       "      <td>m</td>\n",
       "      <td>other</td>\n",
       "      <td>1</td>\n",
       "      <td>37</td>\n",
       "      <td>3.0</td>\n",
       "      <td>10</td>\n",
       "      <td>1</td>\n",
       "      <td>76</td>\n",
       "      <td>1</td>\n",
       "      <td>1</td>\n",
       "      <td>0.047319</td>\n",
       "      <td>0.952681</td>\n",
       "    </tr>\n",
       "  </tbody>\n",
       "</table>\n",
       "<p>441 rows × 15 columns</p>\n",
       "</div>"
      ],
      "text/plain": [
       "              department     region  education_recat gender  \\\n",
       "49529  Sales & Marketing   region_3                2      m   \n",
       "28171         Operations   region_7                1      f   \n",
       "17319         Technology   region_2                1      f   \n",
       "37792            Finance  region_26                1      m   \n",
       "14637  Sales & Marketing   region_4                2      m   \n",
       "...                  ...        ...              ...    ...   \n",
       "5614                  HR  region_13                1      f   \n",
       "23749         Technology  region_22                2      m   \n",
       "10947         Technology   region_2                1      m   \n",
       "27529         Operations   region_2                2      m   \n",
       "13280         Operations   region_2                1      m   \n",
       "\n",
       "      recruitment_channel  no_of_trainings  age  previous_year_rating  \\\n",
       "49529               other                1   33                   5.0   \n",
       "28171            sourcing                1   43                   3.0   \n",
       "17319            referred                2   37                   5.0   \n",
       "37792            sourcing                1   31                   5.0   \n",
       "14637               other                1   43                   4.0   \n",
       "...                   ...              ...  ...                   ...   \n",
       "5614                other                1   31                   5.0   \n",
       "23749               other                2   43                   4.0   \n",
       "10947               other                1   27                   5.0   \n",
       "27529               other                1   39                   3.0   \n",
       "13280               other                1   37                   3.0   \n",
       "\n",
       "       length_of_service awards_won?  avg_training_score  is_promoted  \\\n",
       "49529                  2           0                  92            1   \n",
       "28171                 13           0                  71            1   \n",
       "17319                  4           1                  83            1   \n",
       "37792                  5           1                  67            1   \n",
       "14637                  4           1                  54            0   \n",
       "...                  ...         ...                 ...          ...   \n",
       "5614                   2           1                  54            0   \n",
       "23749                 11           0                  89            1   \n",
       "10947                  3           0                  83            1   \n",
       "27529                  5           0                  78            1   \n",
       "13280                 10           1                  76            1   \n",
       "\n",
       "       prediction  Probability 0  Probability 1  \n",
       "49529           1       0.000273       0.999727  \n",
       "28171           1       0.449788       0.550212  \n",
       "17319           1       0.184602       0.815398  \n",
       "37792           1       0.165942       0.834058  \n",
       "14637           1       0.210088       0.789912  \n",
       "...           ...            ...            ...  \n",
       "5614            1       0.344846       0.655154  \n",
       "23749           1       0.302725       0.697275  \n",
       "10947           1       0.486963       0.513037  \n",
       "27529           1       0.142826       0.857174  \n",
       "13280           1       0.047319       0.952681  \n",
       "\n",
       "[441 rows x 15 columns]"
      ]
     },
     "execution_count": 253,
     "metadata": {},
     "output_type": "execute_result"
    }
   ],
   "source": [
    "df_proba[df_proba['prediction']==1]"
   ]
  }
 ],
 "metadata": {
  "kernelspec": {
   "display_name": "Python 3",
   "language": "python",
   "name": "python3"
  },
  "language_info": {
   "codemirror_mode": {
    "name": "ipython",
    "version": 3
   },
   "file_extension": ".py",
   "mimetype": "text/x-python",
   "name": "python",
   "nbconvert_exporter": "python",
   "pygments_lexer": "ipython3",
   "version": "3.8.8"
  }
 },
 "nbformat": 4,
 "nbformat_minor": 5
}
